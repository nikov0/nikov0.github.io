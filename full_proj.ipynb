{
 "cells": [
  {
   "cell_type": "markdown",
   "id": "b2c62c63",
   "metadata": {},
   "source": [
    "![Amsterdam Marathon Logo](images/Amsterdam_Marathon_2013_logo.png)"
   ]
  },
  {
   "cell_type": "markdown",
   "id": "8b1c1622",
   "metadata": {},
   "source": [
    "---"
   ]
  },
  {
   "cell_type": "markdown",
   "id": "ae638f60",
   "metadata": {},
   "source": [
    "# Introduction"
   ]
  },
  {
   "cell_type": "markdown",
   "id": "0094ca2d",
   "metadata": {},
   "source": [
    "This project's goal is to analyze and work with data from an annual marathon in Amsterdam. The goal is to determine which factors influence final finish time and which do not, and whether we can predict a marathon runner's finish time before and during the race."
   ]
  },
  {
   "cell_type": "markdown",
   "id": "a28a7764",
   "metadata": {},
   "source": [
    "---"
   ]
  },
  {
   "cell_type": "markdown",
   "id": "0c6dc495",
   "metadata": {},
   "source": [
    "### Imports\n",
    "We will load all of the libraries that will be needed throughout the project."
   ]
  },
  {
   "cell_type": "code",
   "execution_count": 1,
   "id": "5873de3d",
   "metadata": {},
   "outputs": [],
   "source": [
    "from selenium import webdriver\n",
    "from selenium.webdriver.common.keys import Keys\n",
    "from selenium.webdriver.chrome.service import Service\n",
    "from selenium.webdriver.common.by import By\n",
    "from selenium.webdriver.support import expected_conditions as EC\n",
    "from selenium.webdriver.support.ui import WebDriverWait\n",
    "from selenium.webdriver.common.desired_capabilities import DesiredCapabilities\n",
    "from selenium.webdriver.support.ui import Select\n",
    "from bs4 import BeautifulSoup\n",
    "import threading\n",
    "import requests\n",
    "import numpy as np\n",
    "import pandas as pd\n",
    "import json\n",
    "import time\n",
    "import cchardet\n",
    "import os\n",
    "import pycountry\n",
    "from urllib.parse import urlparse\n",
    "from urllib.parse import parse_qs\n",
    "import aiohttp\n",
    "import asyncio\n",
    "import time\n",
    "import matplotlib.pyplot as plt\n",
    "import seaborn as sns\n",
    "%matplotlib inline\n",
    "import sklearn\n",
    "\n",
    "from sklearn.linear_model import Ridge, LinearRegression, Lasso, SGDRegressor \n",
    "from sklearn.ensemble import RandomForestRegressor\n",
    "from sklearn.neighbors import KNeighborsRegressor\n",
    "\n",
    "from sklearn.model_selection import train_test_split\n",
    "from sklearn.model_selection import cross_val_score\n",
    "from sklearn.model_selection import GridSearchCV\n",
    "from sklearn.preprocessing import StandardScaler, MinMaxScaler, LabelEncoder\n",
    "from sklearn import metrics\n",
    "from sklearn.metrics import accuracy_score, precision_score, recall_score, f1_score, confusion_matrix, mean_squared_error, mean_absolute_error\n",
    "from sklearn.metrics import make_scorer, r2_score"
   ]
  },
  {
   "cell_type": "markdown",
   "id": "cfda5e22",
   "metadata": {},
   "source": [
    "---"
   ]
  },
  {
   "cell_type": "markdown",
   "id": "8e46024b",
   "metadata": {},
   "source": [
    "# Data acquisition\n",
    "As previously stated, we will be exploring the race results of the Amsterdam marathon over the years. After arriving at the results page, I came to the following conclusions:\n",
    "\n",
    "- The results from 2007 to 2015 are stored on an older system, whereas the results from 2016 and on are stored on a different host.\n",
    "- The first host retrieves table results via URL queries and the data appears immediately in the HTML source after being sent from the server side.\n",
    "- The second host uses a network request to retrieve the result stored in a JSON object. The data isn't immediately loaded onto the page\n",
    "\n",
    "To be able to scrape from both hosts, they must be approached differently. Because the first host sends the full HTML with each query, it can be scraped with asynchronous requests and BeautifulSoup. As for the second host, I was able to trace back the API call it made by using the browser's developer tools and inspecting the Network requests. This will allow me to directly access the data and only work with that JSON object."
   ]
  },
  {
   "cell_type": "markdown",
   "id": "137eff42",
   "metadata": {},
   "source": [
    "### Goal and strategy\n",
    "I intend to retrieve all data from the following years of the marathon:\n",
    "\n",
    "2007, 2008, 2009, 2010, 2011, 2012, 2013, 2014, 2015, 2017, 2018, 2019, 2021\n",
    "\n",
    "I left out the year 2016 because it lacks some information that every other marathon has.\n",
    "\n",
    "I also left out the year 2020 due to the low number of participants."
   ]
  },
  {
   "cell_type": "markdown",
   "id": "aec1421b",
   "metadata": {},
   "source": [
    "#### Initial declarations"
   ]
  },
  {
   "cell_type": "code",
   "execution_count": 2,
   "id": "78be3a90",
   "metadata": {},
   "outputs": [],
   "source": [
    "names=list()\n",
    "poss=list()\n",
    "bibs=list()\n",
    "cats=list()\n",
    "rpos=list()\n",
    "cnt=list()\n",
    "km5=list()\n",
    "km10=list()\n",
    "km15=list()\n",
    "km20=list()\n",
    "km21=list()\n",
    "km25=list()\n",
    "km30=list()\n",
    "km35=list()\n",
    "km40=list()\n",
    "kmfin=list()\n",
    "dates=list()"
   ]
  },
  {
   "cell_type": "markdown",
   "id": "02a2d157",
   "metadata": {},
   "source": [
    "#### Libraries used"
   ]
  },
  {
   "cell_type": "markdown",
   "id": "01521da8",
   "metadata": {},
   "source": [
    "I will be sending asynchronous requests to the site using the **aiohttp/asyncio** library, which will significantly reduce the running time compared to running those requests in a linear fashion. Because I want to know the split times for each tournament entry, I'll have to access each participant's personal page, which means one request per person. Even for the smallest tournament with 6530 participants, it will take 6530 requests, one per row, which is very time consuming if not done asynchronously.\n",
    "\n",
    "\n",
    "*Credits: https://www.twilio.com/blog/asynchronous-http-requests-in-python-with-aiohttp*"
   ]
  },
  {
   "cell_type": "markdown",
   "id": "4c703b72",
   "metadata": {},
   "source": [
    "#### 2007-2015 Marathons\n",
    "Credit: https://www.twilio.com/blog/asynchronous-http-requests-in-python-with-aiohttp"
   ]
  },
  {
   "cell_type": "code",
   "execution_count": 3,
   "id": "cc1a439b",
   "metadata": {},
   "outputs": [
    {
     "name": "stdout",
     "output_type": "stream",
     "text": [
      "2007 marathon entries: 6530\n",
      "2008 marathon entries: 5983\n",
      "2009 marathon entries: 6910\n",
      "2010 marathon entries: 7880\n",
      "2011 marathon entries: 9637\n",
      "2012 marathon entries: 10145\n",
      "2013 marathon entries: 11309\n",
      "2014 marathon entries: 12217\n",
      "2015 marathon entries: 12359\n",
      "--- Running time: 723.7320411205292 seconds ---\n"
     ]
    }
   ],
   "source": [
    "def timestamp(t):\n",
    "    spl = t.split(\":\")\n",
    "    if t and len(spl) < 3:\n",
    "        return '0:'+t\n",
    "    return t\n",
    "\n",
    "# Manually gathered data for maximum page\n",
    "marathons = [\n",
    "    (2007,66),\n",
    "    (2008,60),\n",
    "    (2009,70),\n",
    "    (2010,79),\n",
    "    (2011,97),\n",
    "    (2012,102),\n",
    "    (2013,114),\n",
    "    (2014,123),\n",
    "    (2015,124)\n",
    "]\n",
    "\n",
    "# Test running time\n",
    "start_time = time.time()\n",
    "\n",
    "async def handle_entry(session, url, year):\n",
    "    async with session.get(url) as resp:\n",
    "        r2 = await resp.text()\n",
    "        sp = BeautifulSoup(r2, \"html.parser\")\n",
    "        try:\n",
    "            tables = sp.find_all(\"table\")\n",
    "            left = tables[2].find_all(\"tr\")\n",
    "            right = tables[3].find_all(\"tr\")\n",
    "            right.pop(0)\n",
    "        except IndexError:\n",
    "            print(\"IndexError at\",url)\n",
    "            \n",
    "        parsed = urlparse(url)\n",
    "        dates.append(year)\n",
    "        bibs.append(parse_qs(parsed.query)['s'][0])\n",
    "        names.append(left[0].find_all(\"td\")[1].get_text().strip()) # name\n",
    "        cnt.append(left[2].find_all(\"td\")[1].get_text().strip()) #country\n",
    "        cats.append(left[4].find_all(\"td\")[1].get_text().strip()) #category\n",
    "        poss.append(left[5].find_all(\"td\")[1].get_text().strip().split(' ')[0])#rank\n",
    "        rpos.append(left[6].find_all(\"td\")[1].get_text().strip())#category rank\n",
    "        \n",
    "        kmfin.append(timestamp(left[9].find_all(\"td\")[1].get_text().strip()))\n",
    "        km5.append(timestamp(right[0].find_all(\"td\")[1].get_text().strip().split(' ')[0]))\n",
    "        km10.append(timestamp(right[1].find_all(\"td\")[1].get_text().strip().split(' ')[0]))\n",
    "        km15.append(timestamp(right[2].find_all(\"td\")[1].get_text().strip().split(' ')[0]))\n",
    "        km20.append(timestamp(right[3].find_all(\"td\")[1].get_text().strip().split(' ')[0]))\n",
    "        km21.append(timestamp(right[4].find_all(\"td\")[1].get_text().strip().split(' ')[0]))\n",
    "        km25.append(timestamp(right[5].find_all(\"td\")[1].get_text().strip().split(' ')[0]))\n",
    "        km30.append(timestamp(right[6].find_all(\"td\")[1].get_text().strip().split(' ')[0]))\n",
    "        km35.append(timestamp(right[7].find_all(\"td\")[1].get_text().strip().split(' ')[0]))\n",
    "        km40.append(timestamp(right[8].find_all(\"td\")[1].get_text().strip().split(' ')[0]))\n",
    "\n",
    "async def handle_page(session, url, year):\n",
    "    async with session.get(url) as resp:\n",
    "        r2 = await resp.text()\n",
    "        sp = BeautifulSoup(r2, \"html.parser\")\n",
    "        \n",
    "        main = f'https://evenementen.uitslagen.nl/{year}/amsterdammarathon/'\n",
    "        links = []\n",
    "        \n",
    "        #entries = sp.find(\"table\",attrs={\"class\":\"u\"}).find_all(\"tr\")\n",
    "        entries = sp.find_all(\"table\")[1].find_all(\"tr\")\n",
    "        entries.pop(0)\n",
    "        \n",
    "        if not entries:\n",
    "            print(\"Empty page\")\n",
    "            return []\n",
    "        \n",
    "        for e in entries:\n",
    "            data = e.find_all(\"td\")\n",
    "            _link = data[2].find(\"a\")['href']\n",
    "            links.append(main+_link)\n",
    "            \n",
    "        return links\n",
    "            \n",
    "\n",
    "async with aiohttp.ClientSession() as session:\n",
    "    for m in marathons:\n",
    "        tasks = []\n",
    "        pages = []\n",
    "        url = f'https://evenementen.uitslagen.nl/{m[0]}/amsterdammarathon/uitslag.php?tl=nl&on=1&p='\n",
    "\n",
    "        for n in range(1,(m[1]+1)):\n",
    "            ul = f'{url}{n}'\n",
    "            pages.append(asyncio.ensure_future(handle_page(session, ul,m[0])))\n",
    "\n",
    "        full = []\n",
    "        lnk = await asyncio.gather(*pages)\n",
    "        for l in lnk:\n",
    "            full.extend(l)\n",
    "\n",
    "        for u in full:\n",
    "            tasks.append(asyncio.ensure_future(handle_entry(session,u,m[0])))\n",
    "\n",
    "        await asyncio.gather(*tasks)\n",
    "        print(f'{m[0]} marathon entries: {len(full)}')\n",
    "            \n",
    "print(\"--- Running time: %s seconds ---\" % (time.time() - start_time))"
   ]
  },
  {
   "cell_type": "markdown",
   "id": "6c8976d2",
   "metadata": {},
   "source": [
    "### 2017-2021 Marathons"
   ]
  },
  {
   "cell_type": "code",
   "execution_count": 4,
   "id": "20c173d5",
   "metadata": {},
   "outputs": [
    {
     "name": "stdout",
     "output_type": "stream",
     "text": [
      "No entries left, returning False\n",
      "11450 Returned false, exiting loop!\n",
      "No entries left, returning False\n",
      "12150 Returned false, exiting loop!\n",
      "No entries left, returning False\n",
      "13500 Returned false, exiting loop!\n",
      "No entries left, returning False\n",
      "6650 Returned false, exiting loop!\n",
      "--- Running time: 258.97440123558044 seconds ---\n"
     ]
    }
   ],
   "source": [
    "event_data = [\n",
    "    (6324258980229775616, 422801),#2017\n",
    "    (6457579627025192192, 446288),#2018\n",
    "    (6589788263981649920, 452732),#2019\n",
    "    (6853741552290238720, 479865)#2021\n",
    "]\n",
    "\n",
    "start_time = time.time()\n",
    "\n",
    "async def pull_json(session, url):\n",
    "    async with session.get(url) as resp:\n",
    "        r_json = await resp.json()\n",
    "\n",
    "        r_recs = r_json['fullClassifications']\n",
    "        \n",
    "        timestamp = r_json['eventRace']['race']['date'].split('-')[0]\n",
    "        \n",
    "        if not r_recs:\n",
    "            print(\"No entries left, returning False\")\n",
    "            return False\n",
    "        \n",
    "        for entry in r_recs:\n",
    "            data = entry['classification']\n",
    "            splits = data['splits']\n",
    "            bibs.append(data['bib'])\n",
    "            names.append(data['name'])\n",
    "            cnt.append(data['countryCode'])\n",
    "            cats.append(data['category'])\n",
    "            poss.append(data['rank'])\n",
    "            rpos.append(data['categoryRank'])\n",
    "            dates.append(timestamp)\n",
    "            km5.append(splits[0]['cumulativeTime'])\n",
    "            km10.append(splits[1]['cumulativeTime'])\n",
    "            km15.append(splits[2]['cumulativeTime'])\n",
    "            km20.append(splits[3]['cumulativeTime'])\n",
    "            km21.append(splits[4]['cumulativeTime'])\n",
    "            km25.append(splits[5]['cumulativeTime'])\n",
    "            km30.append(splits[6]['cumulativeTime'])\n",
    "            km35.append(splits[7]['cumulativeTime'])\n",
    "            km40.append(splits[8]['cumulativeTime'])\n",
    "            kmfin.append(splits[9]['cumulativeTime'])\n",
    "        return True\n",
    "            \n",
    "async with aiohttp.ClientSession() as session:\n",
    "    tasks = []\n",
    "    main_url = 'https://eventresults-api.sporthive.com/api/events/'\n",
    "    MAX_OFFSET = 20000\n",
    "    \n",
    "    for e in event_data:\n",
    "        url = f'{main_url}{e[0]}/races/{e[1]}/classifications/search?count=50&offset='\n",
    "        for n in range(0, MAX_OFFSET, 50):\n",
    "            ul = f'{url}{n}'\n",
    "\n",
    "            t = asyncio.ensure_future(pull_json(session, ul))\n",
    "\n",
    "            val = await t\n",
    "\n",
    "            if not val:\n",
    "                print(f'{n} Returned false, exiting loop!')\n",
    "                break\n",
    "\n",
    "            tasks.append(t)\n",
    "\n",
    "        await asyncio.gather(*tasks)    \n",
    "    \n",
    "print(\"--- Running time: %s seconds ---\" % (time.time() - start_time))"
   ]
  },
  {
   "cell_type": "markdown",
   "id": "abd64833",
   "metadata": {},
   "source": [
    "#### Putting everything together"
   ]
  },
  {
   "cell_type": "code",
   "execution_count": 5,
   "id": "6587c2fa",
   "metadata": {},
   "outputs": [
    {
     "name": "stdout",
     "output_type": "stream",
     "text": [
      "(126656, 17)\n"
     ]
    }
   ],
   "source": [
    "fDict = {\"name\":names,\"bib\":bibs,\"country\":cnt,\"rank\":poss,\"category_rank\":rpos,\"category\":cats,\"date\":dates,\n",
    "         \"km_5\":km5,\"km_10\":km10,\"km_15\":km15,\"km_20\":km20,\"km_21\":km21,\n",
    "        \"km_25\":km25,\"km_30\":km30,\"km_35\":km35,\"km_40\":km40, \"km_finish\":kmfin\n",
    "        }\n",
    "\n",
    "df = pd.DataFrame(fDict)\n",
    "print(df.shape)"
   ]
  },
  {
   "cell_type": "markdown",
   "id": "478ed586",
   "metadata": {},
   "source": [
    "### Results\n",
    "Let's see the actual dataframe:"
   ]
  },
  {
   "cell_type": "code",
   "execution_count": 6,
   "id": "5bfa3b23",
   "metadata": {},
   "outputs": [
    {
     "data": {
      "text/html": [
       "<div>\n",
       "<style scoped>\n",
       "    .dataframe tbody tr th:only-of-type {\n",
       "        vertical-align: middle;\n",
       "    }\n",
       "\n",
       "    .dataframe tbody tr th {\n",
       "        vertical-align: top;\n",
       "    }\n",
       "\n",
       "    .dataframe thead th {\n",
       "        text-align: right;\n",
       "    }\n",
       "</style>\n",
       "<table border=\"1\" class=\"dataframe\">\n",
       "  <thead>\n",
       "    <tr style=\"text-align: right;\">\n",
       "      <th></th>\n",
       "      <th>name</th>\n",
       "      <th>bib</th>\n",
       "      <th>country</th>\n",
       "      <th>rank</th>\n",
       "      <th>category_rank</th>\n",
       "      <th>category</th>\n",
       "      <th>date</th>\n",
       "      <th>km_5</th>\n",
       "      <th>km_10</th>\n",
       "      <th>km_15</th>\n",
       "      <th>km_20</th>\n",
       "      <th>km_21</th>\n",
       "      <th>km_25</th>\n",
       "      <th>km_30</th>\n",
       "      <th>km_35</th>\n",
       "      <th>km_40</th>\n",
       "      <th>km_finish</th>\n",
       "    </tr>\n",
       "  </thead>\n",
       "  <tbody>\n",
       "    <tr>\n",
       "      <th>0</th>\n",
       "      <td>Ronald Schöer</td>\n",
       "      <td>29</td>\n",
       "      <td>NED</td>\n",
       "      <td>25</td>\n",
       "      <td>25</td>\n",
       "      <td>Msen</td>\n",
       "      <td>2007</td>\n",
       "      <td>0:16:27</td>\n",
       "      <td>0:32:18</td>\n",
       "      <td>0:49:01</td>\n",
       "      <td>1:05:27</td>\n",
       "      <td>1:09:05</td>\n",
       "      <td>1:21:59</td>\n",
       "      <td>1:38:20</td>\n",
       "      <td>1:54:52</td>\n",
       "      <td>2:11:43</td>\n",
       "      <td>2:19:32</td>\n",
       "    </tr>\n",
       "    <tr>\n",
       "      <th>1</th>\n",
       "      <td>César García</td>\n",
       "      <td>200</td>\n",
       "      <td>ESP</td>\n",
       "      <td>59</td>\n",
       "      <td>47</td>\n",
       "      <td>Msen</td>\n",
       "      <td>2007</td>\n",
       "      <td>0:17:28</td>\n",
       "      <td>0:34:11</td>\n",
       "      <td>0:51:33</td>\n",
       "      <td>1:08:42</td>\n",
       "      <td>1:12:35</td>\n",
       "      <td>1:26:35</td>\n",
       "      <td>1:45:17</td>\n",
       "      <td>2:04:30</td>\n",
       "      <td>2:25:40</td>\n",
       "      <td>2:35:49</td>\n",
       "    </tr>\n",
       "    <tr>\n",
       "      <th>2</th>\n",
       "      <td>Marta Markos</td>\n",
       "      <td>F12</td>\n",
       "      <td>ETH</td>\n",
       "      <td>49</td>\n",
       "      <td>7</td>\n",
       "      <td>Vsen</td>\n",
       "      <td>2007</td>\n",
       "      <td>0:18:06</td>\n",
       "      <td>0:35:08</td>\n",
       "      <td>0:53:12</td>\n",
       "      <td>1:10:21</td>\n",
       "      <td>1:14:09</td>\n",
       "      <td>1:27:45</td>\n",
       "      <td>1:44:52</td>\n",
       "      <td>2:02:59</td>\n",
       "      <td>2:22:44</td>\n",
       "      <td>2:32:28</td>\n",
       "    </tr>\n",
       "    <tr>\n",
       "      <th>3</th>\n",
       "      <td>Shadrack Kiplagat</td>\n",
       "      <td>18</td>\n",
       "      <td>KEN</td>\n",
       "      <td>7</td>\n",
       "      <td>7</td>\n",
       "      <td>Msen</td>\n",
       "      <td>2007</td>\n",
       "      <td>0:15:13</td>\n",
       "      <td>0:29:55</td>\n",
       "      <td>0:45:24</td>\n",
       "      <td>1:00:35</td>\n",
       "      <td>1:03:57</td>\n",
       "      <td>1:15:32</td>\n",
       "      <td>1:30:20</td>\n",
       "      <td>1:45:03</td>\n",
       "      <td>2:00:41</td>\n",
       "      <td>2:07:52</td>\n",
       "    </tr>\n",
       "    <tr>\n",
       "      <th>4</th>\n",
       "      <td>Andrius Ramonas</td>\n",
       "      <td>214</td>\n",
       "      <td>LTU</td>\n",
       "      <td>57</td>\n",
       "      <td>46</td>\n",
       "      <td>Msen</td>\n",
       "      <td>2007</td>\n",
       "      <td>0:18:09</td>\n",
       "      <td>0:35:38</td>\n",
       "      <td>0:54:07</td>\n",
       "      <td>1:12:03</td>\n",
       "      <td>1:16:03</td>\n",
       "      <td>1:29:57</td>\n",
       "      <td>1:48:13</td>\n",
       "      <td>2:06:45</td>\n",
       "      <td>2:26:14</td>\n",
       "      <td>2:34:59</td>\n",
       "    </tr>\n",
       "    <tr>\n",
       "      <th>...</th>\n",
       "      <td>...</td>\n",
       "      <td>...</td>\n",
       "      <td>...</td>\n",
       "      <td>...</td>\n",
       "      <td>...</td>\n",
       "      <td>...</td>\n",
       "      <td>...</td>\n",
       "      <td>...</td>\n",
       "      <td>...</td>\n",
       "      <td>...</td>\n",
       "      <td>...</td>\n",
       "      <td>...</td>\n",
       "      <td>...</td>\n",
       "      <td>...</td>\n",
       "      <td>...</td>\n",
       "      <td>...</td>\n",
       "      <td>...</td>\n",
       "    </tr>\n",
       "    <tr>\n",
       "      <th>126651</th>\n",
       "      <td>BALANAGARAJAN ARUMUGAM</td>\n",
       "      <td>2684</td>\n",
       "      <td></td>\n",
       "      <td>6608</td>\n",
       "      <td>1951</td>\n",
       "      <td>Msen</td>\n",
       "      <td>2021</td>\n",
       "      <td>00:35:24</td>\n",
       "      <td>01:15:04</td>\n",
       "      <td>01:59:19</td>\n",
       "      <td>02:48:19</td>\n",
       "      <td>03:00:37</td>\n",
       "      <td>03:36:29</td>\n",
       "      <td>04:24:34</td>\n",
       "      <td>05:14:29</td>\n",
       "      <td>06:03:06</td>\n",
       "      <td>06:25:36</td>\n",
       "    </tr>\n",
       "    <tr>\n",
       "      <th>126652</th>\n",
       "      <td>Ombeline Vrac</td>\n",
       "      <td>12090</td>\n",
       "      <td>FR</td>\n",
       "      <td>6609</td>\n",
       "      <td>596</td>\n",
       "      <td>Vsen</td>\n",
       "      <td>2021</td>\n",
       "      <td>00:32:51</td>\n",
       "      <td>01:06:28</td>\n",
       "      <td>01:41:52</td>\n",
       "      <td>02:21:01</td>\n",
       "      <td>02:32:14</td>\n",
       "      <td>03:06:05</td>\n",
       "      <td>03:55:36</td>\n",
       "      <td>05:01:47</td>\n",
       "      <td>06:07:22</td>\n",
       "      <td>06:28:04</td>\n",
       "    </tr>\n",
       "    <tr>\n",
       "      <th>126653</th>\n",
       "      <td>Joop Keetman</td>\n",
       "      <td>M7500</td>\n",
       "      <td>NL</td>\n",
       "      <td>6610</td>\n",
       "      <td>7</td>\n",
       "      <td>M75</td>\n",
       "      <td>2021</td>\n",
       "      <td>00:42:09</td>\n",
       "      <td>01:25:30</td>\n",
       "      <td>02:10:20</td>\n",
       "      <td>02:56:27</td>\n",
       "      <td>03:08:28</td>\n",
       "      <td>03:45:35</td>\n",
       "      <td>04:35:16</td>\n",
       "      <td>05:32:33</td>\n",
       "      <td>06:23:28</td>\n",
       "      <td>06:45:40</td>\n",
       "    </tr>\n",
       "    <tr>\n",
       "      <th>126654</th>\n",
       "      <td>Startnummer 1763</td>\n",
       "      <td>1763</td>\n",
       "      <td></td>\n",
       "      <td>6611</td>\n",
       "      <td>1952</td>\n",
       "      <td>Msen</td>\n",
       "      <td>2021</td>\n",
       "      <td>00:35:42</td>\n",
       "      <td>01:22:15</td>\n",
       "      <td>02:21:57</td>\n",
       "      <td>03:06:57</td>\n",
       "      <td>03:17:40</td>\n",
       "      <td>03:51:56</td>\n",
       "      <td>04:38:29</td>\n",
       "      <td>05:30:51</td>\n",
       "      <td>06:28:33</td>\n",
       "      <td>06:54:02</td>\n",
       "    </tr>\n",
       "    <tr>\n",
       "      <th>126655</th>\n",
       "      <td>Christiaan van Schaik</td>\n",
       "      <td>34043</td>\n",
       "      <td>NL</td>\n",
       "      <td>6612</td>\n",
       "      <td>1953</td>\n",
       "      <td>Msen</td>\n",
       "      <td>2021</td>\n",
       "      <td></td>\n",
       "      <td></td>\n",
       "      <td></td>\n",
       "      <td></td>\n",
       "      <td></td>\n",
       "      <td></td>\n",
       "      <td>05:27:18</td>\n",
       "      <td>05:58:35</td>\n",
       "      <td>06:31:50</td>\n",
       "      <td>06:45:58</td>\n",
       "    </tr>\n",
       "  </tbody>\n",
       "</table>\n",
       "<p>126656 rows × 17 columns</p>\n",
       "</div>"
      ],
      "text/plain": [
       "                          name    bib country  rank category_rank category  \\\n",
       "0                Ronald Schöer     29     NED    25            25     Msen   \n",
       "1                 César García    200     ESP    59            47     Msen   \n",
       "2                 Marta Markos    F12     ETH    49             7     Vsen   \n",
       "3            Shadrack Kiplagat     18     KEN     7             7     Msen   \n",
       "4              Andrius Ramonas    214     LTU    57            46     Msen   \n",
       "...                        ...    ...     ...   ...           ...      ...   \n",
       "126651  BALANAGARAJAN ARUMUGAM   2684          6608          1951     Msen   \n",
       "126652           Ombeline Vrac  12090      FR  6609           596     Vsen   \n",
       "126653            Joop Keetman  M7500      NL  6610             7      M75   \n",
       "126654        Startnummer 1763   1763          6611          1952     Msen   \n",
       "126655   Christiaan van Schaik  34043      NL  6612          1953     Msen   \n",
       "\n",
       "        date      km_5     km_10     km_15     km_20     km_21     km_25  \\\n",
       "0       2007   0:16:27   0:32:18   0:49:01   1:05:27   1:09:05   1:21:59   \n",
       "1       2007   0:17:28   0:34:11   0:51:33   1:08:42   1:12:35   1:26:35   \n",
       "2       2007   0:18:06   0:35:08   0:53:12   1:10:21   1:14:09   1:27:45   \n",
       "3       2007   0:15:13   0:29:55   0:45:24   1:00:35   1:03:57   1:15:32   \n",
       "4       2007   0:18:09   0:35:38   0:54:07   1:12:03   1:16:03   1:29:57   \n",
       "...      ...       ...       ...       ...       ...       ...       ...   \n",
       "126651  2021  00:35:24  01:15:04  01:59:19  02:48:19  03:00:37  03:36:29   \n",
       "126652  2021  00:32:51  01:06:28  01:41:52  02:21:01  02:32:14  03:06:05   \n",
       "126653  2021  00:42:09  01:25:30  02:10:20  02:56:27  03:08:28  03:45:35   \n",
       "126654  2021  00:35:42  01:22:15  02:21:57  03:06:57  03:17:40  03:51:56   \n",
       "126655  2021                                                               \n",
       "\n",
       "           km_30     km_35     km_40 km_finish  \n",
       "0        1:38:20   1:54:52   2:11:43   2:19:32  \n",
       "1        1:45:17   2:04:30   2:25:40   2:35:49  \n",
       "2        1:44:52   2:02:59   2:22:44   2:32:28  \n",
       "3        1:30:20   1:45:03   2:00:41   2:07:52  \n",
       "4        1:48:13   2:06:45   2:26:14   2:34:59  \n",
       "...          ...       ...       ...       ...  \n",
       "126651  04:24:34  05:14:29  06:03:06  06:25:36  \n",
       "126652  03:55:36  05:01:47  06:07:22  06:28:04  \n",
       "126653  04:35:16  05:32:33  06:23:28  06:45:40  \n",
       "126654  04:38:29  05:30:51  06:28:33  06:54:02  \n",
       "126655  05:27:18  05:58:35  06:31:50  06:45:58  \n",
       "\n",
       "[126656 rows x 17 columns]"
      ]
     },
     "execution_count": 6,
     "metadata": {},
     "output_type": "execute_result"
    }
   ],
   "source": [
    "df"
   ]
  },
  {
   "cell_type": "code",
   "execution_count": 7,
   "id": "3a8284e1",
   "metadata": {},
   "outputs": [],
   "source": [
    "# Save the dataframe\n",
    "df.to_csv('data/amsterdam_m_full_years.csv', index=False)"
   ]
  },
  {
   "cell_type": "markdown",
   "id": "9d20b53e",
   "metadata": {},
   "source": [
    "---"
   ]
  },
  {
   "cell_type": "markdown",
   "id": "909edd47",
   "metadata": {},
   "source": [
    "## Data cleaning\n",
    "We now have a sizable raw dataset, which will require cleaning and transformation."
   ]
  },
  {
   "cell_type": "markdown",
   "id": "13f97834",
   "metadata": {},
   "source": [
    "#### Exploring the **raw** data\n",
    "To begin, we'll examine the raw data presented in the dataframe to determine what we're dealing with. The table and dataframe information below show that we have missing values in the **country** and **split time** (5km, 10km...) columns. Because the number of missing values is so small in comparison to the total number of entries, those rows can be easily discarded.\n",
    "\n",
    "\n",
    "#### Trivial removals\n",
    "There are 4 categories in the *category* column that are only represented by one person, which means we can get rid of them as well. *(VSR, MSR, Mrecr, an-he)*\n",
    "\n",
    "\n",
    "####  Gender\n",
    "Gender is missing from the dataset because it is already represented in the category column. Each category begins with either 'M' for Man (male) or 'V' for Vrouw (female). I'll separate this information from the category column and introduce it into a new one as it will be useful in later stages.\n",
    "\n",
    "#### Country\n",
    "The country codes do not follow the same standard because the marathon data was extracted from two different hosts. For example, the International Olympic Committee (IOC) country codes, as well as some obsolete codes (for example, Singapore, whose SIN abbreviation was only changed after 2016), were used in the 2007-2015 marathons, whereas the newer marathons (2016 and on) use alpha-2 codes that adhere to the ISO 3166 standard.\n",
    "\n",
    "Because alpha-2 standard codes are now the most commonly used, I will leave the rows that contain them alone and convert the rest to two digit alpha-2 codes.\n",
    "\n",
    "*Reading sources:*\n",
    "\n",
    "*IOC: https://en.wikipedia.org/wiki/List_of_IOC_country_codes*\n",
    "\n",
    "*ISO 3166: https://www.iban.com/country-codes*\n",
    "\n",
    "#### Numerical data\n",
    "The data that will be used in the EDA will need to be changed into numbers. All timestamps in the split time column and the finish time column will be converted to seconds. In addition, I will remove bib numbers that begin with letters so that they do not interfere with subsequent analysis that requires the column to be numeric. The remaining columns will be left alone.\n",
    "\n",
    "\n",
    "#### Outliers\n",
    "It may be necessary to pay attention to outlier values. If such values exist, we will remove them because they most likely represent only a small portion of the dataset."
   ]
  },
  {
   "cell_type": "code",
   "execution_count": 8,
   "id": "6d27369c",
   "metadata": {},
   "outputs": [],
   "source": [
    "def load_csv(file_name):\n",
    "    return pd.read_csv(file_name)"
   ]
  },
  {
   "cell_type": "code",
   "execution_count": 9,
   "id": "29c57780",
   "metadata": {
    "scrolled": false
   },
   "outputs": [
    {
     "name": "stdout",
     "output_type": "stream",
     "text": [
      "(126656, 17)\n"
     ]
    },
    {
     "data": {
      "text/html": [
       "<div>\n",
       "<style scoped>\n",
       "    .dataframe tbody tr th:only-of-type {\n",
       "        vertical-align: middle;\n",
       "    }\n",
       "\n",
       "    .dataframe tbody tr th {\n",
       "        vertical-align: top;\n",
       "    }\n",
       "\n",
       "    .dataframe thead th {\n",
       "        text-align: right;\n",
       "    }\n",
       "</style>\n",
       "<table border=\"1\" class=\"dataframe\">\n",
       "  <thead>\n",
       "    <tr style=\"text-align: right;\">\n",
       "      <th></th>\n",
       "      <th>name</th>\n",
       "      <th>bib</th>\n",
       "      <th>country</th>\n",
       "      <th>rank</th>\n",
       "      <th>category_rank</th>\n",
       "      <th>category</th>\n",
       "      <th>date</th>\n",
       "      <th>km_5</th>\n",
       "      <th>km_10</th>\n",
       "      <th>km_15</th>\n",
       "      <th>km_20</th>\n",
       "      <th>km_21</th>\n",
       "      <th>km_25</th>\n",
       "      <th>km_30</th>\n",
       "      <th>km_35</th>\n",
       "      <th>km_40</th>\n",
       "      <th>km_finish</th>\n",
       "    </tr>\n",
       "  </thead>\n",
       "  <tbody>\n",
       "    <tr>\n",
       "      <th>0</th>\n",
       "      <td>Ronald Schöer</td>\n",
       "      <td>29</td>\n",
       "      <td>NED</td>\n",
       "      <td>25</td>\n",
       "      <td>25</td>\n",
       "      <td>Msen</td>\n",
       "      <td>2007</td>\n",
       "      <td>0:16:27</td>\n",
       "      <td>0:32:18</td>\n",
       "      <td>0:49:01</td>\n",
       "      <td>1:05:27</td>\n",
       "      <td>1:09:05</td>\n",
       "      <td>1:21:59</td>\n",
       "      <td>1:38:20</td>\n",
       "      <td>1:54:52</td>\n",
       "      <td>2:11:43</td>\n",
       "      <td>2:19:32</td>\n",
       "    </tr>\n",
       "    <tr>\n",
       "      <th>1</th>\n",
       "      <td>César García</td>\n",
       "      <td>200</td>\n",
       "      <td>ESP</td>\n",
       "      <td>59</td>\n",
       "      <td>47</td>\n",
       "      <td>Msen</td>\n",
       "      <td>2007</td>\n",
       "      <td>0:17:28</td>\n",
       "      <td>0:34:11</td>\n",
       "      <td>0:51:33</td>\n",
       "      <td>1:08:42</td>\n",
       "      <td>1:12:35</td>\n",
       "      <td>1:26:35</td>\n",
       "      <td>1:45:17</td>\n",
       "      <td>2:04:30</td>\n",
       "      <td>2:25:40</td>\n",
       "      <td>2:35:49</td>\n",
       "    </tr>\n",
       "    <tr>\n",
       "      <th>2</th>\n",
       "      <td>Marta Markos</td>\n",
       "      <td>F12</td>\n",
       "      <td>ETH</td>\n",
       "      <td>49</td>\n",
       "      <td>7</td>\n",
       "      <td>Vsen</td>\n",
       "      <td>2007</td>\n",
       "      <td>0:18:06</td>\n",
       "      <td>0:35:08</td>\n",
       "      <td>0:53:12</td>\n",
       "      <td>1:10:21</td>\n",
       "      <td>1:14:09</td>\n",
       "      <td>1:27:45</td>\n",
       "      <td>1:44:52</td>\n",
       "      <td>2:02:59</td>\n",
       "      <td>2:22:44</td>\n",
       "      <td>2:32:28</td>\n",
       "    </tr>\n",
       "    <tr>\n",
       "      <th>3</th>\n",
       "      <td>Shadrack Kiplagat</td>\n",
       "      <td>18</td>\n",
       "      <td>KEN</td>\n",
       "      <td>7</td>\n",
       "      <td>7</td>\n",
       "      <td>Msen</td>\n",
       "      <td>2007</td>\n",
       "      <td>0:15:13</td>\n",
       "      <td>0:29:55</td>\n",
       "      <td>0:45:24</td>\n",
       "      <td>1:00:35</td>\n",
       "      <td>1:03:57</td>\n",
       "      <td>1:15:32</td>\n",
       "      <td>1:30:20</td>\n",
       "      <td>1:45:03</td>\n",
       "      <td>2:00:41</td>\n",
       "      <td>2:07:52</td>\n",
       "    </tr>\n",
       "    <tr>\n",
       "      <th>4</th>\n",
       "      <td>Andrius Ramonas</td>\n",
       "      <td>214</td>\n",
       "      <td>LTU</td>\n",
       "      <td>57</td>\n",
       "      <td>46</td>\n",
       "      <td>Msen</td>\n",
       "      <td>2007</td>\n",
       "      <td>0:18:09</td>\n",
       "      <td>0:35:38</td>\n",
       "      <td>0:54:07</td>\n",
       "      <td>1:12:03</td>\n",
       "      <td>1:16:03</td>\n",
       "      <td>1:29:57</td>\n",
       "      <td>1:48:13</td>\n",
       "      <td>2:06:45</td>\n",
       "      <td>2:26:14</td>\n",
       "      <td>2:34:59</td>\n",
       "    </tr>\n",
       "  </tbody>\n",
       "</table>\n",
       "</div>"
      ],
      "text/plain": [
       "                name  bib country  rank  category_rank category  date  \\\n",
       "0      Ronald Schöer   29     NED    25             25     Msen  2007   \n",
       "1       César García  200     ESP    59             47     Msen  2007   \n",
       "2       Marta Markos  F12     ETH    49              7     Vsen  2007   \n",
       "3  Shadrack Kiplagat   18     KEN     7              7     Msen  2007   \n",
       "4    Andrius Ramonas  214     LTU    57             46     Msen  2007   \n",
       "\n",
       "      km_5    km_10    km_15    km_20    km_21    km_25    km_30    km_35  \\\n",
       "0  0:16:27  0:32:18  0:49:01  1:05:27  1:09:05  1:21:59  1:38:20  1:54:52   \n",
       "1  0:17:28  0:34:11  0:51:33  1:08:42  1:12:35  1:26:35  1:45:17  2:04:30   \n",
       "2  0:18:06  0:35:08  0:53:12  1:10:21  1:14:09  1:27:45  1:44:52  2:02:59   \n",
       "3  0:15:13  0:29:55  0:45:24  1:00:35  1:03:57  1:15:32  1:30:20  1:45:03   \n",
       "4  0:18:09  0:35:38  0:54:07  1:12:03  1:16:03  1:29:57  1:48:13  2:06:45   \n",
       "\n",
       "     km_40 km_finish  \n",
       "0  2:11:43   2:19:32  \n",
       "1  2:25:40   2:35:49  \n",
       "2  2:22:44   2:32:28  \n",
       "3  2:00:41   2:07:52  \n",
       "4  2:26:14   2:34:59  "
      ]
     },
     "execution_count": 9,
     "metadata": {},
     "output_type": "execute_result"
    }
   ],
   "source": [
    "file_name = '.' + os.sep + 'data' + os.sep + 'amsterdam_m_full_years.csv'\n",
    "df = load_csv(file_name)\n",
    "print(df.shape)\n",
    "df.head()"
   ]
  },
  {
   "cell_type": "code",
   "execution_count": 10,
   "id": "67843ece",
   "metadata": {
    "scrolled": true
   },
   "outputs": [
    {
     "name": "stdout",
     "output_type": "stream",
     "text": [
      "<class 'pandas.core.frame.DataFrame'>\n",
      "RangeIndex: 126656 entries, 0 to 126655\n",
      "Data columns (total 17 columns):\n",
      " #   Column         Non-Null Count   Dtype \n",
      "---  ------         --------------   ----- \n",
      " 0   name           126656 non-null  object\n",
      " 1   bib            126656 non-null  object\n",
      " 2   country        126313 non-null  object\n",
      " 3   rank           126656 non-null  int64 \n",
      " 4   category_rank  126656 non-null  int64 \n",
      " 5   category       126656 non-null  object\n",
      " 6   date           126656 non-null  int64 \n",
      " 7   km_5           126206 non-null  object\n",
      " 8   km_10          125699 non-null  object\n",
      " 9   km_15          126146 non-null  object\n",
      " 10  km_20          126284 non-null  object\n",
      " 11  km_21          126321 non-null  object\n",
      " 12  km_25          126224 non-null  object\n",
      " 13  km_30          126266 non-null  object\n",
      " 14  km_35          126091 non-null  object\n",
      " 15  km_40          126293 non-null  object\n",
      " 16  km_finish      126652 non-null  object\n",
      "dtypes: int64(3), object(14)\n",
      "memory usage: 16.4+ MB\n"
     ]
    }
   ],
   "source": [
    "df.info()"
   ]
  },
  {
   "cell_type": "code",
   "execution_count": 11,
   "id": "60140943",
   "metadata": {
    "scrolled": true
   },
   "outputs": [
    {
     "name": "stdout",
     "output_type": "stream",
     "text": [
      "['Msen' 'Vsen' 'M40' 'M35' 'M50' 'M45' 'M55' 'M60' 'V40' 'V35' 'V45' 'V50'\n",
      " 'M65' 'V55' 'V60' 'M70' 'an-he' 'M75' 'V65' 'MSR' 'V70' 'VSR' 'Mrecr']\n",
      "Msen     27403\n",
      "M40      18710\n",
      "M45      16308\n",
      "M35      16216\n",
      "M50      11236\n",
      "Vsen      9803\n",
      "M55       5755\n",
      "V40       4950\n",
      "V45       4277\n",
      "V35       4109\n",
      "V50       2579\n",
      "M60       2494\n",
      "V55       1174\n",
      "M65        882\n",
      "V60        365\n",
      "M70        233\n",
      "V65         95\n",
      "M75         52\n",
      "V70         11\n",
      "an-he        1\n",
      "MSR          1\n",
      "VSR          1\n",
      "Mrecr        1\n",
      "Name: category, dtype: int64\n"
     ]
    }
   ],
   "source": [
    "print(df.category.unique())\n",
    "print(df['category'].value_counts())"
   ]
  },
  {
   "cell_type": "code",
   "execution_count": 12,
   "id": "2008cf1e",
   "metadata": {},
   "outputs": [
    {
     "data": {
      "text/plain": [
       "(1744, 17)"
      ]
     },
     "execution_count": 12,
     "metadata": {},
     "output_type": "execute_result"
    }
   ],
   "source": [
    "df[df.bib.str.isnumeric() == False].shape"
   ]
  },
  {
   "cell_type": "markdown",
   "id": "088fda5c",
   "metadata": {},
   "source": [
    "## Function definitions\n",
    "I will define all the functions that will be applied on the dataset:\n",
    "\n",
    "**time_convert(x)**: \n",
    "\n",
    "- transforms timestamp into seconds. \n",
    "- credit: https://stackoverflow.com/questions/28845825/pandas-python-convert-hhmmss-into-seconds-in-aggegate-csv-file)\n",
    "\n",
    "**remove_missing_and_duplicates(dataframe)**: \n",
    "\n",
    "- removes missing and duplicate data\n",
    "\n",
    "**clean_columns(dataframe)**: \n",
    "\n",
    "- removes charity runners, adds gender column, rearranges the dataframe\n",
    "\n",
    "**transform_time_bib(dataframe)**: \n",
    "\n",
    "- converts time columns into seconds, removes rows with non numerical bibs\n",
    "\n",
    "**handle_outliers(dataframe)**:\n",
    "- Uses IQR to get rid of outliers in the km_finish column. \n",
    "\n",
    "**transform_country_codes(dataframe, column)**: \n",
    "\n",
    "- reads from IOC table and transforms into country name and then into alpha-2. Uses the replace map to change the columns that can't be automatically changed.\n",
    "- credit (IOC and pycountry): https://stackoverflow.com/questions/70335028/how-do-i-convert-an-ioc-country-code-to-country-name"
   ]
  },
  {
   "cell_type": "code",
   "execution_count": 15,
   "id": "09e9fbda",
   "metadata": {},
   "outputs": [],
   "source": [
    "def time_convert(x):\n",
    "    h,m,s = map(int,x.split(':'))\n",
    "    return (h*60+m)*60+s\n",
    "\n",
    "def remove_missing_and_duplicates(dataframe):\n",
    "    dfl = dataframe.copy()\n",
    "    dfl.dropna(axis=0, inplace=True)\n",
    "    dfl.drop_duplicates(inplace=True)\n",
    "    return dfl\n",
    "\n",
    "def clean_columns(dataframe):\n",
    "    dfl = dataframe.copy()\n",
    "    \n",
    "    # Remove unused categories\n",
    "    dfl = dfl[(dfl.category != 'VSR') & (dfl.category != 'MSR') & (dfl.category != 'Mrecr') & (dfl.category != 'an-he')]\n",
    "    \n",
    "    # Gender\n",
    "    dfl['gender'] = 'F'\n",
    "    dfl.loc[dfl['category'].str.get(0) == 'M', 'gender'] = 'M'\n",
    "    \n",
    "    # Rearrange columns\n",
    "    dfl = dfl[['name', 'bib', 'gender','country', 'rank', 'category_rank', 'category', 'date',\n",
    "       'km_5', 'km_10', 'km_15', 'km_20', 'km_21', 'km_25', 'km_30', 'km_35',\n",
    "       'km_40', 'km_finish']]\n",
    "    \n",
    "    return dfl\n",
    "\n",
    "# Converts time into seconds using time_convert()\n",
    "# Removes rows with non numerical bib numbers\n",
    "\n",
    "def transform_time_bib(dataframe):\n",
    "    dfl = dataframe.copy()\n",
    "    \n",
    "    cols = ['km_5','km_10','km_15','km_20','km_21','km_25','km_30','km_35','km_40','km_finish']\n",
    "    for c in cols:\n",
    "        dfl[c] = dfl[c].apply(time_convert)\n",
    "    \n",
    "    # We don't want bibs that have letters\n",
    "    dfl = dfl[(dfl.bib.str.isnumeric())]\n",
    "    dfl = dfl.astype({\"bib\":int})\n",
    "    \n",
    "    return dfl\n",
    "\n",
    "def handle_outliers(dataframe):\n",
    "    dft = dataframe.copy()\n",
    "    \n",
    "    Q1 = np.percentile(dft[\"km_finish\"], 25)\n",
    "    Q3 = np.percentile(dft[\"km_finish\"], 75)\n",
    "    IQR = Q3 - Q1\n",
    "    outlier_rows = dft[(dft[\"km_finish\"] < Q1 - 1.5*IQR) | (dft[\"km_finish\"] > Q3 + 1.5*IQR)].index\n",
    "    dft = dft.drop(outlier_rows)\n",
    "    return dft\n",
    "\n",
    "### Reads from IOC table and transforms into country name\n",
    "### Transforms country name into alpha-2\n",
    "### Transforms the rest that can't be automatically changed with the replace map\n",
    "### Credit (ioc and pycountry): https://stackoverflow.com/questions/70335028/how-do-i-convert-an-ioc-country-code-to-country-name\n",
    "def transform_country_codes(dataframe, column):\n",
    "    dft = dataframe.copy()\n",
    "    \n",
    "    \n",
    "    # Obsolete codes that can't be automatically changed to ALPHA-2\n",
    "    replace_map = {'Great Britain':'GB', 'Czech Republic':'CZ', 'SCG':'RS','Hong Kong, China':'HK',\n",
    "              'Russia':'RU','LIB':'LB','Venezuela':'VE', 'Chinese Taipei[8]':'TW', 'SIN':'SG','ROM':'RO',\n",
    "               'Republic of the Congo':'CD','AHO':'NL','NLD':'NL','South Korea':'KR', 'Moldova':'MD',\n",
    "               'Tanzania':'TZ', 'Iran':'IR', 'GIB':'GI'}\n",
    "    \n",
    "    \n",
    "    ioc = pd.read_html('https://en.wikipedia.org/wiki/List_of_IOC_country_codes')[0]\n",
    "    ioc = ioc.assign(Code=ioc['Code'].str[-3:]).set_index('Code')['National Olympic Committee']\n",
    "    \n",
    "    dft[column] = dft[column].replace(ioc)\n",
    "    \n",
    "    countries = {}\n",
    "    for country in pycountry.countries:\n",
    "        countries[country.name] = country.alpha_2\n",
    "\n",
    "    alpha2 = pd.Series(countries)\n",
    "    \n",
    "    dft[column] = dft[column].replace(alpha2)\n",
    "    dft[column] = dft[column].replace(replace_map)\n",
    "\n",
    "    return dft"
   ]
  },
  {
   "cell_type": "code",
   "execution_count": 16,
   "id": "f80189b9",
   "metadata": {},
   "outputs": [],
   "source": [
    "df_clean = remove_missing_and_duplicates(df)\n",
    "df_clean = clean_columns(df_clean)\n",
    "df_clean = transform_time_bib(df_clean)\n",
    "df_clean = handle_outliers(df_clean)\n",
    "df_clean = transform_country_codes(df_clean, 'country')"
   ]
  },
  {
   "cell_type": "code",
   "execution_count": 17,
   "id": "8871e476",
   "metadata": {},
   "outputs": [
    {
     "data": {
      "text/html": [
       "<div>\n",
       "<style scoped>\n",
       "    .dataframe tbody tr th:only-of-type {\n",
       "        vertical-align: middle;\n",
       "    }\n",
       "\n",
       "    .dataframe tbody tr th {\n",
       "        vertical-align: top;\n",
       "    }\n",
       "\n",
       "    .dataframe thead th {\n",
       "        text-align: right;\n",
       "    }\n",
       "</style>\n",
       "<table border=\"1\" class=\"dataframe\">\n",
       "  <thead>\n",
       "    <tr style=\"text-align: right;\">\n",
       "      <th></th>\n",
       "      <th>name</th>\n",
       "      <th>bib</th>\n",
       "      <th>gender</th>\n",
       "      <th>country</th>\n",
       "      <th>rank</th>\n",
       "      <th>category_rank</th>\n",
       "      <th>category</th>\n",
       "      <th>date</th>\n",
       "      <th>km_5</th>\n",
       "      <th>km_10</th>\n",
       "      <th>km_15</th>\n",
       "      <th>km_20</th>\n",
       "      <th>km_21</th>\n",
       "      <th>km_25</th>\n",
       "      <th>km_30</th>\n",
       "      <th>km_35</th>\n",
       "      <th>km_40</th>\n",
       "      <th>km_finish</th>\n",
       "    </tr>\n",
       "  </thead>\n",
       "  <tbody>\n",
       "    <tr>\n",
       "      <th>0</th>\n",
       "      <td>Ronald Schöer</td>\n",
       "      <td>29</td>\n",
       "      <td>M</td>\n",
       "      <td>NL</td>\n",
       "      <td>25</td>\n",
       "      <td>25</td>\n",
       "      <td>Msen</td>\n",
       "      <td>2007</td>\n",
       "      <td>987</td>\n",
       "      <td>1938</td>\n",
       "      <td>2941</td>\n",
       "      <td>3927</td>\n",
       "      <td>4145</td>\n",
       "      <td>4919</td>\n",
       "      <td>5900</td>\n",
       "      <td>6892</td>\n",
       "      <td>7903</td>\n",
       "      <td>8372</td>\n",
       "    </tr>\n",
       "    <tr>\n",
       "      <th>1</th>\n",
       "      <td>César García</td>\n",
       "      <td>200</td>\n",
       "      <td>M</td>\n",
       "      <td>ES</td>\n",
       "      <td>59</td>\n",
       "      <td>47</td>\n",
       "      <td>Msen</td>\n",
       "      <td>2007</td>\n",
       "      <td>1048</td>\n",
       "      <td>2051</td>\n",
       "      <td>3093</td>\n",
       "      <td>4122</td>\n",
       "      <td>4355</td>\n",
       "      <td>5195</td>\n",
       "      <td>6317</td>\n",
       "      <td>7470</td>\n",
       "      <td>8740</td>\n",
       "      <td>9349</td>\n",
       "    </tr>\n",
       "    <tr>\n",
       "      <th>4</th>\n",
       "      <td>Andrius Ramonas</td>\n",
       "      <td>214</td>\n",
       "      <td>M</td>\n",
       "      <td>LT</td>\n",
       "      <td>57</td>\n",
       "      <td>46</td>\n",
       "      <td>Msen</td>\n",
       "      <td>2007</td>\n",
       "      <td>1089</td>\n",
       "      <td>2138</td>\n",
       "      <td>3247</td>\n",
       "      <td>4323</td>\n",
       "      <td>4563</td>\n",
       "      <td>5397</td>\n",
       "      <td>6493</td>\n",
       "      <td>7605</td>\n",
       "      <td>8774</td>\n",
       "      <td>9299</td>\n",
       "    </tr>\n",
       "    <tr>\n",
       "      <th>5</th>\n",
       "      <td>Raivis Zakis</td>\n",
       "      <td>194</td>\n",
       "      <td>M</td>\n",
       "      <td>IE</td>\n",
       "      <td>44</td>\n",
       "      <td>37</td>\n",
       "      <td>Msen</td>\n",
       "      <td>2007</td>\n",
       "      <td>1084</td>\n",
       "      <td>2106</td>\n",
       "      <td>3189</td>\n",
       "      <td>4219</td>\n",
       "      <td>4447</td>\n",
       "      <td>5263</td>\n",
       "      <td>6285</td>\n",
       "      <td>7374</td>\n",
       "      <td>8530</td>\n",
       "      <td>9043</td>\n",
       "    </tr>\n",
       "    <tr>\n",
       "      <th>8</th>\n",
       "      <td>Eric Domérégo</td>\n",
       "      <td>205</td>\n",
       "      <td>M</td>\n",
       "      <td>FR</td>\n",
       "      <td>53</td>\n",
       "      <td>43</td>\n",
       "      <td>Msen</td>\n",
       "      <td>2007</td>\n",
       "      <td>1082</td>\n",
       "      <td>2109</td>\n",
       "      <td>3190</td>\n",
       "      <td>4269</td>\n",
       "      <td>4512</td>\n",
       "      <td>5382</td>\n",
       "      <td>6500</td>\n",
       "      <td>7621</td>\n",
       "      <td>8745</td>\n",
       "      <td>9228</td>\n",
       "    </tr>\n",
       "    <tr>\n",
       "      <th>...</th>\n",
       "      <td>...</td>\n",
       "      <td>...</td>\n",
       "      <td>...</td>\n",
       "      <td>...</td>\n",
       "      <td>...</td>\n",
       "      <td>...</td>\n",
       "      <td>...</td>\n",
       "      <td>...</td>\n",
       "      <td>...</td>\n",
       "      <td>...</td>\n",
       "      <td>...</td>\n",
       "      <td>...</td>\n",
       "      <td>...</td>\n",
       "      <td>...</td>\n",
       "      <td>...</td>\n",
       "      <td>...</td>\n",
       "      <td>...</td>\n",
       "      <td>...</td>\n",
       "    </tr>\n",
       "    <tr>\n",
       "      <th>126582</th>\n",
       "      <td>Johannes Gülly</td>\n",
       "      <td>14581</td>\n",
       "      <td>M</td>\n",
       "      <td>AT</td>\n",
       "      <td>6539</td>\n",
       "      <td>1942</td>\n",
       "      <td>Msen</td>\n",
       "      <td>2021</td>\n",
       "      <td>2058</td>\n",
       "      <td>4102</td>\n",
       "      <td>6227</td>\n",
       "      <td>8461</td>\n",
       "      <td>8988</td>\n",
       "      <td>10770</td>\n",
       "      <td>13490</td>\n",
       "      <td>16709</td>\n",
       "      <td>19240</td>\n",
       "      <td>20245</td>\n",
       "    </tr>\n",
       "    <tr>\n",
       "      <th>126584</th>\n",
       "      <td>Hanneke van der Weerd</td>\n",
       "      <td>14323</td>\n",
       "      <td>F</td>\n",
       "      <td>NL</td>\n",
       "      <td>6541</td>\n",
       "      <td>69</td>\n",
       "      <td>V55</td>\n",
       "      <td>2021</td>\n",
       "      <td>2005</td>\n",
       "      <td>3980</td>\n",
       "      <td>6164</td>\n",
       "      <td>8480</td>\n",
       "      <td>9026</td>\n",
       "      <td>10955</td>\n",
       "      <td>14093</td>\n",
       "      <td>16572</td>\n",
       "      <td>19009</td>\n",
       "      <td>20235</td>\n",
       "    </tr>\n",
       "    <tr>\n",
       "      <th>126585</th>\n",
       "      <td>Constantin Stan</td>\n",
       "      <td>14424</td>\n",
       "      <td>M</td>\n",
       "      <td>RO</td>\n",
       "      <td>6542</td>\n",
       "      <td>766</td>\n",
       "      <td>M35</td>\n",
       "      <td>2021</td>\n",
       "      <td>2213</td>\n",
       "      <td>4375</td>\n",
       "      <td>6626</td>\n",
       "      <td>8804</td>\n",
       "      <td>9337</td>\n",
       "      <td>11325</td>\n",
       "      <td>14110</td>\n",
       "      <td>16699</td>\n",
       "      <td>19420</td>\n",
       "      <td>20271</td>\n",
       "    </tr>\n",
       "    <tr>\n",
       "      <th>126587</th>\n",
       "      <td>Sjurdur Samuelsen</td>\n",
       "      <td>14504</td>\n",
       "      <td>M</td>\n",
       "      <td>FO</td>\n",
       "      <td>6544</td>\n",
       "      <td>1945</td>\n",
       "      <td>Msen</td>\n",
       "      <td>2021</td>\n",
       "      <td>2131</td>\n",
       "      <td>4397</td>\n",
       "      <td>6684</td>\n",
       "      <td>9141</td>\n",
       "      <td>9713</td>\n",
       "      <td>11645</td>\n",
       "      <td>14369</td>\n",
       "      <td>16936</td>\n",
       "      <td>19341</td>\n",
       "      <td>20328</td>\n",
       "    </tr>\n",
       "    <tr>\n",
       "      <th>126595</th>\n",
       "      <td>Alan Durrans</td>\n",
       "      <td>14009</td>\n",
       "      <td>M</td>\n",
       "      <td>GB</td>\n",
       "      <td>6552</td>\n",
       "      <td>807</td>\n",
       "      <td>M40</td>\n",
       "      <td>2021</td>\n",
       "      <td>2046</td>\n",
       "      <td>4069</td>\n",
       "      <td>6118</td>\n",
       "      <td>8279</td>\n",
       "      <td>8964</td>\n",
       "      <td>10724</td>\n",
       "      <td>13354</td>\n",
       "      <td>16376</td>\n",
       "      <td>19228</td>\n",
       "      <td>20352</td>\n",
       "    </tr>\n",
       "  </tbody>\n",
       "</table>\n",
       "<p>120640 rows × 18 columns</p>\n",
       "</div>"
      ],
      "text/plain": [
       "                         name    bib gender country  rank  category_rank  \\\n",
       "0               Ronald Schöer     29      M      NL    25             25   \n",
       "1                César García    200      M      ES    59             47   \n",
       "4             Andrius Ramonas    214      M      LT    57             46   \n",
       "5                Raivis Zakis    194      M      IE    44             37   \n",
       "8               Eric Domérégo    205      M      FR    53             43   \n",
       "...                       ...    ...    ...     ...   ...            ...   \n",
       "126582         Johannes Gülly  14581      M      AT  6539           1942   \n",
       "126584  Hanneke van der Weerd  14323      F      NL  6541             69   \n",
       "126585        Constantin Stan  14424      M      RO  6542            766   \n",
       "126587      Sjurdur Samuelsen  14504      M      FO  6544           1945   \n",
       "126595           Alan Durrans  14009      M      GB  6552            807   \n",
       "\n",
       "       category  date  km_5  km_10  km_15  km_20  km_21  km_25  km_30  km_35  \\\n",
       "0          Msen  2007   987   1938   2941   3927   4145   4919   5900   6892   \n",
       "1          Msen  2007  1048   2051   3093   4122   4355   5195   6317   7470   \n",
       "4          Msen  2007  1089   2138   3247   4323   4563   5397   6493   7605   \n",
       "5          Msen  2007  1084   2106   3189   4219   4447   5263   6285   7374   \n",
       "8          Msen  2007  1082   2109   3190   4269   4512   5382   6500   7621   \n",
       "...         ...   ...   ...    ...    ...    ...    ...    ...    ...    ...   \n",
       "126582     Msen  2021  2058   4102   6227   8461   8988  10770  13490  16709   \n",
       "126584      V55  2021  2005   3980   6164   8480   9026  10955  14093  16572   \n",
       "126585      M35  2021  2213   4375   6626   8804   9337  11325  14110  16699   \n",
       "126587     Msen  2021  2131   4397   6684   9141   9713  11645  14369  16936   \n",
       "126595      M40  2021  2046   4069   6118   8279   8964  10724  13354  16376   \n",
       "\n",
       "        km_40  km_finish  \n",
       "0        7903       8372  \n",
       "1        8740       9349  \n",
       "4        8774       9299  \n",
       "5        8530       9043  \n",
       "8        8745       9228  \n",
       "...       ...        ...  \n",
       "126582  19240      20245  \n",
       "126584  19009      20235  \n",
       "126585  19420      20271  \n",
       "126587  19341      20328  \n",
       "126595  19228      20352  \n",
       "\n",
       "[120640 rows x 18 columns]"
      ]
     },
     "execution_count": 17,
     "metadata": {},
     "output_type": "execute_result"
    }
   ],
   "source": [
    "df_clean"
   ]
  },
  {
   "cell_type": "code",
   "execution_count": 18,
   "id": "7bc4df07",
   "metadata": {
    "scrolled": true
   },
   "outputs": [
    {
     "name": "stdout",
     "output_type": "stream",
     "text": [
      "<class 'pandas.core.frame.DataFrame'>\n",
      "Int64Index: 120640 entries, 0 to 126595\n",
      "Data columns (total 18 columns):\n",
      " #   Column         Non-Null Count   Dtype \n",
      "---  ------         --------------   ----- \n",
      " 0   name           120640 non-null  object\n",
      " 1   bib            120640 non-null  int32 \n",
      " 2   gender         120640 non-null  object\n",
      " 3   country        120640 non-null  object\n",
      " 4   rank           120640 non-null  int64 \n",
      " 5   category_rank  120640 non-null  int64 \n",
      " 6   category       120640 non-null  object\n",
      " 7   date           120640 non-null  int64 \n",
      " 8   km_5           120640 non-null  int64 \n",
      " 9   km_10          120640 non-null  int64 \n",
      " 10  km_15          120640 non-null  int64 \n",
      " 11  km_20          120640 non-null  int64 \n",
      " 12  km_21          120640 non-null  int64 \n",
      " 13  km_25          120640 non-null  int64 \n",
      " 14  km_30          120640 non-null  int64 \n",
      " 15  km_35          120640 non-null  int64 \n",
      " 16  km_40          120640 non-null  int64 \n",
      " 17  km_finish      120640 non-null  int64 \n",
      "dtypes: int32(1), int64(13), object(4)\n",
      "memory usage: 17.0+ MB\n"
     ]
    }
   ],
   "source": [
    "df_clean.info()"
   ]
  },
  {
   "cell_type": "code",
   "execution_count": 19,
   "id": "69289d72",
   "metadata": {
    "scrolled": false
   },
   "outputs": [
    {
     "name": "stdout",
     "output_type": "stream",
     "text": [
      "Msen    26078\n",
      "M40     18070\n",
      "M45     15735\n",
      "M35     15625\n",
      "M50     10711\n",
      "Vsen     9234\n",
      "M55      5430\n",
      "V40      4720\n",
      "V45      4044\n",
      "V35      3912\n",
      "V50      2411\n",
      "M60      2284\n",
      "V55      1047\n",
      "M65       761\n",
      "V60       304\n",
      "M70       171\n",
      "V65        70\n",
      "M75        27\n",
      "V70         6\n",
      "Name: category, dtype: int64\n"
     ]
    }
   ],
   "source": [
    "print(df_clean['category'].value_counts())"
   ]
  },
  {
   "cell_type": "markdown",
   "id": "aaa35be9",
   "metadata": {},
   "source": [
    "# Exploratory Data Analysis (EDA)\n",
    "\n",
    "In this section, we will begin to investigate the features in the dataframe and their relationships to one another in order to answer one of the research questions: what affects finish time the most?"
   ]
  },
  {
   "cell_type": "markdown",
   "id": "4787f13e",
   "metadata": {},
   "source": [
    "In the following graph, Figure 1 depicts the overall percentage of marathon participants. The majority of visitors come from the Netherlands, as expected, because they are locals. However, when we narrow the dataset to the top 50 performers (Fig. 2), we see that countries like Kenya and Ethiopia climb all the way to the top, with Kenya taking the lead over the Netherlands despite having significantly fewer participants. The graphs show that the concentration of experienced runners favors East African countries more as well as West Europeans."
   ]
  },
  {
   "cell_type": "code",
   "execution_count": 20,
   "id": "86f28667",
   "metadata": {
    "scrolled": true
   },
   "outputs": [
    {
     "data": {
      "image/png": "[encoded data removed]",
      "text/plain": [
       "<Figure size 1152x144 with 2 Axes>"
      ]
     },
     "metadata": {
      "needs_background": "light"
     },
     "output_type": "display_data"
    }
   ],
   "source": [
    "fig = plt.figure(figsize = (16,2))\n",
    "\n",
    "series = df_clean.country.value_counts(normalize=True)[:20].mul(100)\n",
    "top = df_clean[df_clean['rank'] <= 50].country.value_counts(normalize=True)[:20].mul(100)\n",
    "\n",
    "plt.subplot(1, 2, 1)\n",
    "plt.bar(list(series.index), list(series.values), color='red',width = 0.4)\n",
    "plt.xlabel(\"Country\")\n",
    "plt.ylabel(\"% of participants\")\n",
    "plt.title(\"(Fig. 1.) Top 20 countries participating overall\")\n",
    "\n",
    "plt.subplot(1, 2, 2)\n",
    "plt.bar(list(top.index), list(top.values), color='red',width = 0.4)\n",
    "plt.xlabel(\"Country\")\n",
    "plt.ylabel(\"% of participants\")\n",
    "plt.title(\"(Fig 2.) Top 20 countries with rank 50 and below\")\n",
    "\n",
    "plt.show()"
   ]
  },
  {
   "cell_type": "markdown",
   "id": "bbba35ef",
   "metadata": {},
   "source": [
    "The graph below depicts the distribution of men's and women's finish times. The difference in distribution is visible on the left for the fastest finishing times, with male runners leading, but things begin to even out somewhere in the middle, as seen around the 16000 mark."
   ]
  },
  {
   "cell_type": "code",
   "execution_count": 21,
   "id": "6b1e4348",
   "metadata": {
    "scrolled": false
   },
   "outputs": [
    {
     "data": {
      "image/png": "[encoded data removed]",
      "text/plain": [
       "<Figure size 720x360 with 1 Axes>"
      ]
     },
     "metadata": {
      "needs_background": "light"
     },
     "output_type": "display_data"
    }
   ],
   "source": [
    "fig = plt.figure(figsize = (10,5))\n",
    "sns.set(style=\"ticks\")\n",
    "sns.histplot(data=df_clean[df_clean['gender'] == 'M'], x=\"km_finish\", color=\"blue\", label=\"Male\", kde=True)\n",
    "sns.histplot(data=df_clean[df_clean['gender'] == 'F'], x=\"km_finish\", color=\"orange\", label=\"Female\", kde=True)\n",
    "plt.legend()\n",
    "plt.show()"
   ]
  },
  {
   "cell_type": "markdown",
   "id": "a6b100dd",
   "metadata": {},
   "source": [
    "The categories, as previously stated, are mostly divided into age groups, with the exception of the senior runner categories (Msen and Vsen), which represent experienced runners, as evidenced by their placements, both of which are near the top. If we exclude the senior categories and only look at the age groups, we can see a pattern that suggests that if a participant is older, they are less likely to finish in the top 1000."
   ]
  },
  {
   "cell_type": "code",
   "execution_count": 22,
   "id": "c1760d00",
   "metadata": {},
   "outputs": [
    {
     "data": {
      "text/plain": [
       "Text(0.5, 1.0, '(Fig. 2.) Percentage of female participants (rank < 1000)')"
      ]
     },
     "execution_count": 22,
     "metadata": {},
     "output_type": "execute_result"
    },
    {
     "data": {
      "image/png": "[encoded data removed]",
      "text/plain": [
       "<Figure size 1440x216 with 2 Axes>"
      ]
     },
     "metadata": {},
     "output_type": "display_data"
    }
   ],
   "source": [
    "fig = plt.figure(figsize = (20,3))\n",
    "\n",
    "male = df_clean[(df_clean['rank'] <= 500) & (df_clean.category.str.get(0) != 'V')].category.value_counts(normalize=True).mul(100)\n",
    "\n",
    "female = df_clean[(df_clean['rank'] <= 500) & (df_clean.category.str.get(0) != 'M')].category.value_counts(normalize=True).mul(100)\n",
    "\n",
    "plt.subplot(1, 2, 1)\n",
    "plt.bar(list(male.index), list(male.values), color='dodgerblue',width = 0.5)\n",
    "plt.xlabel(\"Category\")\n",
    "plt.ylabel(\"% of participants\")\n",
    "plt.title(\"(Fig. 1.) Percentage of male participants (rank < 1000)\")\n",
    "\n",
    "plt.subplot(1, 2, 2)\n",
    "plt.bar(list(female.index), list(female.values), color='orange',width = 0.5)\n",
    "plt.xlabel(\"Category\")\n",
    "plt.ylabel(\"% of participants\")\n",
    "plt.title(\"(Fig. 2.) Percentage of female participants (rank < 1000)\")"
   ]
  },
  {
   "cell_type": "markdown",
   "id": "25e87911",
   "metadata": {},
   "source": [
    "### Split times\n",
    "What exactly are split times? It is simply the time between the start of the race and the relevant checkpoint. For example, if a person's 5 kilometer split time is 14:30, it means it took them 14 minutes and 30 seconds to arrive at the checkpoint.\n",
    "\n",
    "We can see in the graph below that split times and finish times have a strong correlation."
   ]
  },
  {
   "cell_type": "code",
   "execution_count": 26,
   "id": "7c878060",
   "metadata": {
    "scrolled": true
   },
   "outputs": [
    {
     "data": {
      "text/plain": [
       "<AxesSubplot:>"
      ]
     },
     "execution_count": 26,
     "metadata": {},
     "output_type": "execute_result"
    },
    {
     "data": {
      "image/png": "[encoded data removed]",
      "text/plain": [
       "<Figure size 576x216 with 2 Axes>"
      ]
     },
     "metadata": {},
     "output_type": "display_data"
    }
   ],
   "source": [
    "fig = plt.figure(figsize=(8,3))\n",
    "sns.heatmap(df_clean[['km_5', 'km_10', 'km_15', 'km_20', 'km_25', 'km_30', 'km_35', 'km_40', 'km_finish']].corr(), annot=True)"
   ]
  },
  {
   "cell_type": "markdown",
   "id": "f0ee1597",
   "metadata": {},
   "source": [
    "The heatmap below demonstrates a link between the bib number and the final finish time. Therefore, if the bib number affects the finish time, it could mean that the numbers are not assigned at random but rather as a result of qualifying, with the lower qualifying time receiving the lower bib number, and vice versa."
   ]
  },
  {
   "cell_type": "code",
   "execution_count": 30,
   "id": "b8b42257",
   "metadata": {
    "scrolled": true
   },
   "outputs": [
    {
     "data": {
      "text/plain": [
       "<AxesSubplot:>"
      ]
     },
     "execution_count": 30,
     "metadata": {},
     "output_type": "execute_result"
    },
    {
     "data": {
      "image/png": "[encoded data removed]",
      "text/plain": [
       "<Figure size 720x360 with 2 Axes>"
      ]
     },
     "metadata": {},
     "output_type": "display_data"
    }
   ],
   "source": [
    "fig = plt.figure(figsize = (10,5))\n",
    "sns.heatmap(df_clean[['bib', 'km_finish']].corr(), annot=True)"
   ]
  },
  {
   "cell_type": "markdown",
   "id": "714f586a",
   "metadata": {},
   "source": [
    "# Marathon time prediction\n",
    "In the second part of our research question, we asked whether it was possible to predict marathon times and how accurate that would be. Our EDA revealed a number of relationships the variables gender, category, country, and even bib number had with the final finish time. Therefore, I believe it is possible to predict, but to what degree of accuracy is yet to be seen.\n",
    "\n",
    "Because the finishing time is a continuous value, I will pick one of several regression methods to make the prediction. Linear Regression, Ridge Regression, Lasso Regression, Random Forest Regression, and K Nearest Neighbors Regression will be tested. To determine which one fits the best, the hyperparameters of each method (where applicable) will be tuned, and the methods will be compared to see which one produces the lowest error. The winning method will be used in the final prediction"
   ]
  },
  {
   "cell_type": "markdown",
   "id": "055fe79e",
   "metadata": {},
   "source": [
    "### Feature engineering\n",
    "\n",
    "Before we begin testing all of the methods, we want the features to be numerical.\n",
    "\n",
    "- We will start by converting the gender column into two indicator variables gender_F and gender_M with the use of dummies.\n",
    "- We can then either use a LabelEncoder to convert the category column to numbers, or we can use a replace map to better show the importance of each category. I chose the latter option even though either would have worked.\n",
    "- Although the pycountry library can convert alpha-2 codes to their true numerical value, I chose to use a LabelEncoder because it works in the same way."
   ]
  },
  {
   "cell_type": "code",
   "execution_count": 31,
   "id": "49c01dca",
   "metadata": {},
   "outputs": [],
   "source": [
    "def change_to_numerical(dataframe):\n",
    "    dft = dataframe.copy()\n",
    "    \n",
    "    replace_map = {'Msen':1,'M35':2,'M40':3,'M45':4,'M50':5,'Vsen':6,'M55':7,'V35':8,'V40':9,'M60':10,\n",
    "                  'V45':11,'V50':12,'M65':13,'M70':14,'V60':15,'V55':16,'V65':17,'M75':18,'V70':19}\n",
    "    \n",
    "    dft['category'] = dft['category'].replace(replace_map)\n",
    "    \n",
    "    dft = pd.get_dummies(dft, columns=['gender'])\n",
    "    \n",
    "    l = LabelEncoder()\n",
    "    dft['country'] = l.fit_transform(dft['country'])\n",
    "    return dft"
   ]
  },
  {
   "cell_type": "markdown",
   "id": "07caf000",
   "metadata": {},
   "source": [
    "#### Transforming the database and splitting\n",
    "I will use our new function to transform the database before splitting the train and test cases. The plan is to use 80% of the data for training and the remaining 20% for testing. Furthermore, because StandardScaler works well with regression, I will always apply it to the data before testing."
   ]
  },
  {
   "cell_type": "code",
   "execution_count": 32,
   "id": "25d78bed",
   "metadata": {
    "scrolled": true
   },
   "outputs": [
    {
     "data": {
      "text/html": [
       "<div>\n",
       "<style scoped>\n",
       "    .dataframe tbody tr th:only-of-type {\n",
       "        vertical-align: middle;\n",
       "    }\n",
       "\n",
       "    .dataframe tbody tr th {\n",
       "        vertical-align: top;\n",
       "    }\n",
       "\n",
       "    .dataframe thead th {\n",
       "        text-align: right;\n",
       "    }\n",
       "</style>\n",
       "<table border=\"1\" class=\"dataframe\">\n",
       "  <thead>\n",
       "    <tr style=\"text-align: right;\">\n",
       "      <th></th>\n",
       "      <th>name</th>\n",
       "      <th>bib</th>\n",
       "      <th>country</th>\n",
       "      <th>rank</th>\n",
       "      <th>category_rank</th>\n",
       "      <th>category</th>\n",
       "      <th>date</th>\n",
       "      <th>km_5</th>\n",
       "      <th>km_10</th>\n",
       "      <th>km_15</th>\n",
       "      <th>km_20</th>\n",
       "      <th>km_21</th>\n",
       "      <th>km_25</th>\n",
       "      <th>km_30</th>\n",
       "      <th>km_35</th>\n",
       "      <th>km_40</th>\n",
       "      <th>km_finish</th>\n",
       "      <th>gender_F</th>\n",
       "      <th>gender_M</th>\n",
       "    </tr>\n",
       "  </thead>\n",
       "  <tbody>\n",
       "    <tr>\n",
       "      <th>0</th>\n",
       "      <td>Ronald Schöer</td>\n",
       "      <td>29</td>\n",
       "      <td>107</td>\n",
       "      <td>25</td>\n",
       "      <td>25</td>\n",
       "      <td>1</td>\n",
       "      <td>2007</td>\n",
       "      <td>987</td>\n",
       "      <td>1938</td>\n",
       "      <td>2941</td>\n",
       "      <td>3927</td>\n",
       "      <td>4145</td>\n",
       "      <td>4919</td>\n",
       "      <td>5900</td>\n",
       "      <td>6892</td>\n",
       "      <td>7903</td>\n",
       "      <td>8372</td>\n",
       "      <td>0</td>\n",
       "      <td>1</td>\n",
       "    </tr>\n",
       "    <tr>\n",
       "      <th>1</th>\n",
       "      <td>César García</td>\n",
       "      <td>200</td>\n",
       "      <td>48</td>\n",
       "      <td>59</td>\n",
       "      <td>47</td>\n",
       "      <td>1</td>\n",
       "      <td>2007</td>\n",
       "      <td>1048</td>\n",
       "      <td>2051</td>\n",
       "      <td>3093</td>\n",
       "      <td>4122</td>\n",
       "      <td>4355</td>\n",
       "      <td>5195</td>\n",
       "      <td>6317</td>\n",
       "      <td>7470</td>\n",
       "      <td>8740</td>\n",
       "      <td>9349</td>\n",
       "      <td>0</td>\n",
       "      <td>1</td>\n",
       "    </tr>\n",
       "    <tr>\n",
       "      <th>4</th>\n",
       "      <td>Andrius Ramonas</td>\n",
       "      <td>214</td>\n",
       "      <td>88</td>\n",
       "      <td>57</td>\n",
       "      <td>46</td>\n",
       "      <td>1</td>\n",
       "      <td>2007</td>\n",
       "      <td>1089</td>\n",
       "      <td>2138</td>\n",
       "      <td>3247</td>\n",
       "      <td>4323</td>\n",
       "      <td>4563</td>\n",
       "      <td>5397</td>\n",
       "      <td>6493</td>\n",
       "      <td>7605</td>\n",
       "      <td>8774</td>\n",
       "      <td>9299</td>\n",
       "      <td>0</td>\n",
       "      <td>1</td>\n",
       "    </tr>\n",
       "    <tr>\n",
       "      <th>5</th>\n",
       "      <td>Raivis Zakis</td>\n",
       "      <td>194</td>\n",
       "      <td>66</td>\n",
       "      <td>44</td>\n",
       "      <td>37</td>\n",
       "      <td>1</td>\n",
       "      <td>2007</td>\n",
       "      <td>1084</td>\n",
       "      <td>2106</td>\n",
       "      <td>3189</td>\n",
       "      <td>4219</td>\n",
       "      <td>4447</td>\n",
       "      <td>5263</td>\n",
       "      <td>6285</td>\n",
       "      <td>7374</td>\n",
       "      <td>8530</td>\n",
       "      <td>9043</td>\n",
       "      <td>0</td>\n",
       "      <td>1</td>\n",
       "    </tr>\n",
       "    <tr>\n",
       "      <th>8</th>\n",
       "      <td>Eric Domérégo</td>\n",
       "      <td>205</td>\n",
       "      <td>52</td>\n",
       "      <td>53</td>\n",
       "      <td>43</td>\n",
       "      <td>1</td>\n",
       "      <td>2007</td>\n",
       "      <td>1082</td>\n",
       "      <td>2109</td>\n",
       "      <td>3190</td>\n",
       "      <td>4269</td>\n",
       "      <td>4512</td>\n",
       "      <td>5382</td>\n",
       "      <td>6500</td>\n",
       "      <td>7621</td>\n",
       "      <td>8745</td>\n",
       "      <td>9228</td>\n",
       "      <td>0</td>\n",
       "      <td>1</td>\n",
       "    </tr>\n",
       "  </tbody>\n",
       "</table>\n",
       "</div>"
      ],
      "text/plain": [
       "              name  bib  country  rank  category_rank  category  date  km_5  \\\n",
       "0    Ronald Schöer   29      107    25             25         1  2007   987   \n",
       "1     César García  200       48    59             47         1  2007  1048   \n",
       "4  Andrius Ramonas  214       88    57             46         1  2007  1089   \n",
       "5     Raivis Zakis  194       66    44             37         1  2007  1084   \n",
       "8    Eric Domérégo  205       52    53             43         1  2007  1082   \n",
       "\n",
       "   km_10  km_15  km_20  km_21  km_25  km_30  km_35  km_40  km_finish  \\\n",
       "0   1938   2941   3927   4145   4919   5900   6892   7903       8372   \n",
       "1   2051   3093   4122   4355   5195   6317   7470   8740       9349   \n",
       "4   2138   3247   4323   4563   5397   6493   7605   8774       9299   \n",
       "5   2106   3189   4219   4447   5263   6285   7374   8530       9043   \n",
       "8   2109   3190   4269   4512   5382   6500   7621   8745       9228   \n",
       "\n",
       "   gender_F  gender_M  \n",
       "0         0         1  \n",
       "1         0         1  \n",
       "4         0         1  \n",
       "5         0         1  \n",
       "8         0         1  "
      ]
     },
     "execution_count": 32,
     "metadata": {},
     "output_type": "execute_result"
    }
   ],
   "source": [
    "df_num = change_to_numerical(df_clean)\n",
    "df_num.head()"
   ]
  },
  {
   "cell_type": "markdown",
   "id": "017b35a8",
   "metadata": {},
   "source": [
    "Although the split times will play a part in the final prediction, they will not be used to compare the regression methods."
   ]
  },
  {
   "cell_type": "code",
   "execution_count": 33,
   "id": "40984fb1",
   "metadata": {},
   "outputs": [],
   "source": [
    "X = df_num[['bib', 'category','country','gender_M', 'gender_F']]\n",
    "y = df_num['km_finish']\n",
    "X_train, X_test, y_train, y_test = train_test_split(X, y, test_size=0.2, random_state=42)"
   ]
  },
  {
   "cell_type": "markdown",
   "id": "a48bec9f",
   "metadata": {},
   "source": [
    "Scaling is done separately on the train and the test set."
   ]
  },
  {
   "cell_type": "code",
   "execution_count": 34,
   "id": "22a261c3",
   "metadata": {},
   "outputs": [],
   "source": [
    "scaler = StandardScaler()\n",
    "X_train = scaler.fit_transform(X_train)\n",
    "X_test = scaler.transform(X_test)"
   ]
  },
  {
   "cell_type": "markdown",
   "id": "970045e5",
   "metadata": {},
   "source": [
    "### Picking the best method\n",
    "\n",
    "To determine which method is best, their RMSE (Root Mean Squared Error) values will be compared. The sum of all squared differences between the actual and predicted values divided by the number of values is the mean squared error, and the square root of that value is the RMSE.\n",
    "\n",
    "For this purpose, we will use **mean_squared_error()** with the squared=False parameter, which makes it an RMSE calculation.\n",
    "\n",
    "We'll start with regular LinearRegression, which takes no hyperparameters, and measure its RMSE directly."
   ]
  },
  {
   "cell_type": "code",
   "execution_count": 35,
   "id": "a34fc896",
   "metadata": {},
   "outputs": [
    {
     "name": "stdout",
     "output_type": "stream",
     "text": [
      "1943.7877199448633\n"
     ]
    }
   ],
   "source": [
    "lr = LinearRegression()\n",
    "lr.fit(X_train, y_train)\n",
    "y_pred = lr.predict(X_test)\n",
    "RMSE = mean_squared_error(y_test, y_pred, squared=False)\n",
    "print(RMSE)"
   ]
  },
  {
   "cell_type": "markdown",
   "id": "d1679488",
   "metadata": {},
   "source": [
    "We proceed to Lasso, which accepts a \"alpha\" parameter. We will try to tune this parameter and evaluate the model's performance."
   ]
  },
  {
   "cell_type": "code",
   "execution_count": 36,
   "id": "2444d31e",
   "metadata": {},
   "outputs": [
    {
     "name": "stdout",
     "output_type": "stream",
     "text": [
      "{'alpha': 0.01}\n"
     ]
    }
   ],
   "source": [
    "lr = Lasso()\n",
    "params = {'alpha':[0.01, 0.1, 0.10, 0.15, 0.20, 1, 10, 100, 150, 200, 250, 300]}\n",
    "clf = GridSearchCV(lr, params, scoring='neg_mean_squared_error', cv=5)\n",
    "clf.fit(X_train, y_train)\n",
    "print(clf.best_params_)"
   ]
  },
  {
   "cell_type": "code",
   "execution_count": 37,
   "id": "037afc2d",
   "metadata": {},
   "outputs": [
    {
     "name": "stdout",
     "output_type": "stream",
     "text": [
      "1943.7876624987562\n"
     ]
    }
   ],
   "source": [
    "lr = Lasso(alpha=0.01)\n",
    "lr.fit(X_train, y_train)\n",
    "y_pred = lr.predict(X_test)\n",
    "RMSE = mean_squared_error(y_test, y_pred, squared=False)\n",
    "print(RMSE)"
   ]
  },
  {
   "cell_type": "markdown",
   "id": "e418b308",
   "metadata": {},
   "source": [
    "Ridge Regression is a similar method; we will use the same parameter tuning to see what happens."
   ]
  },
  {
   "cell_type": "code",
   "execution_count": 38,
   "id": "d5d28d2d",
   "metadata": {},
   "outputs": [
    {
     "name": "stdout",
     "output_type": "stream",
     "text": [
      "{'alpha': 10}\n"
     ]
    }
   ],
   "source": [
    "lr = Ridge()\n",
    "params = {'alpha':[0.01, 0.1, 0.10, 0.15, 0.20, 1, 10, 100, 150, 200, 250, 300]}\n",
    "clf = GridSearchCV(lr, params, scoring='neg_mean_squared_error', cv=5)\n",
    "clf.fit(X_train, y_train)\n",
    "print(clf.best_params_)"
   ]
  },
  {
   "cell_type": "code",
   "execution_count": 39,
   "id": "78748598",
   "metadata": {},
   "outputs": [
    {
     "name": "stdout",
     "output_type": "stream",
     "text": [
      "1943.787819775858\n"
     ]
    }
   ],
   "source": [
    "lr = Ridge(alpha=10)\n",
    "lr.fit(X_train, y_train)\n",
    "y_pred = lr.predict(X_test)\n",
    "RMSE = mean_squared_error(y_test, y_pred, squared=False)\n",
    "print(RMSE)"
   ]
  },
  {
   "cell_type": "markdown",
   "id": "f9d26881",
   "metadata": {},
   "source": [
    "While the difference between the three methods is negligible, Linear Regression performs the best. Next, we will investigate K Nearest Neighbors Regression and Random Forest Regression to see if there is room for improvement."
   ]
  },
  {
   "cell_type": "markdown",
   "id": "847226df",
   "metadata": {},
   "source": [
    "**KNeighborsRegressor** with the n neighbors parameter set to 40 shows a significant improvement. Can we accomplish more?"
   ]
  },
  {
   "cell_type": "code",
   "execution_count": 40,
   "id": "87f4c2b4",
   "metadata": {},
   "outputs": [
    {
     "name": "stdout",
     "output_type": "stream",
     "text": [
      "{'n_neighbors': 40}\n"
     ]
    }
   ],
   "source": [
    "lr = KNeighborsRegressor()\n",
    "params = {'n_neighbors':[10, 20, 30, 40, 50, 60, 70, 80, 90, 100, 150]}\n",
    "clf = GridSearchCV(lr, params, cv=5)\n",
    "clf.fit(X_train, y_train)\n",
    "print(clf.best_params_)"
   ]
  },
  {
   "cell_type": "code",
   "execution_count": 41,
   "id": "8fe55227",
   "metadata": {},
   "outputs": [
    {
     "name": "stdout",
     "output_type": "stream",
     "text": [
      "1849.8026454228439\n"
     ]
    }
   ],
   "source": [
    "lr = KNeighborsRegressor(n_neighbors=40)\n",
    "lr.fit(X_train, y_train)\n",
    "y_pred = lr.predict(X_test)\n",
    "RMSE = mean_squared_error(y_test, y_pred, squared=False)\n",
    "print(RMSE)"
   ]
  },
  {
   "cell_type": "markdown",
   "id": "ae2d9369",
   "metadata": {},
   "source": [
    "We can see that RandomForestRegressor returns a smaller value than KNeighborsRegressor, therefore it is the best model out of the ones we chose, and so it will be used to make our final prediction."
   ]
  },
  {
   "cell_type": "code",
   "execution_count": 42,
   "id": "32a47a1a",
   "metadata": {},
   "outputs": [
    {
     "name": "stdout",
     "output_type": "stream",
     "text": [
      "{'max_depth': 12, 'n_estimators': 200}\n"
     ]
    }
   ],
   "source": [
    "lr = RandomForestRegressor(random_state = 40)\n",
    "params = {'n_estimators':[100, 150, 200], 'max_depth':[2, 5, 10, 12]}\n",
    "clf = GridSearchCV(lr, params, cv=5)\n",
    "clf.fit(X_train, y_train)\n",
    "print(clf.best_params_)"
   ]
  },
  {
   "cell_type": "code",
   "execution_count": 43,
   "id": "a99d9a31",
   "metadata": {},
   "outputs": [
    {
     "name": "stdout",
     "output_type": "stream",
     "text": [
      "1826.810686314121\n"
     ]
    }
   ],
   "source": [
    "lr = RandomForestRegressor(n_estimators=200, max_depth=12)\n",
    "lr.fit(X_train, y_train)\n",
    "y_pred = lr.predict(X_test)\n",
    "RMSE = mean_squared_error(y_test, y_pred, squared=False)\n",
    "print(RMSE)"
   ]
  },
  {
   "cell_type": "markdown",
   "id": "1858617e",
   "metadata": {},
   "source": [
    "## The Final Prediction\n",
    "Now that we have a fully featured dataset as well as a correct method, we can start making predictions. We'll use Mean Absolute Error this time to show the difference between actual and predicted values. We will also convert the final numbers to minutes to make things more readable.\n",
    "\n",
    "We can see that predicting a participant's final time without them even starting the race has an error of 23 minutes while only using the base categories. What happens when we begin to introduce split times?"
   ]
  },
  {
   "cell_type": "code",
   "execution_count": 44,
   "id": "96ff9ede",
   "metadata": {},
   "outputs": [],
   "source": [
    "X = df_num[['bib', 'category','country','gender_M', 'gender_F']]\n",
    "y = df_num['km_finish']\n",
    "X_train, X_test, y_train, y_test = train_test_split(X, y, test_size=0.2, random_state=42)"
   ]
  },
  {
   "cell_type": "code",
   "execution_count": 45,
   "id": "bb56d2be",
   "metadata": {
    "scrolled": true
   },
   "outputs": [
    {
     "name": "stdout",
     "output_type": "stream",
     "text": [
      "23.779328222081826\n"
     ]
    },
    {
     "data": {
      "text/html": [
       "<div>\n",
       "<style scoped>\n",
       "    .dataframe tbody tr th:only-of-type {\n",
       "        vertical-align: middle;\n",
       "    }\n",
       "\n",
       "    .dataframe tbody tr th {\n",
       "        vertical-align: top;\n",
       "    }\n",
       "\n",
       "    .dataframe thead th {\n",
       "        text-align: right;\n",
       "    }\n",
       "</style>\n",
       "<table border=\"1\" class=\"dataframe\">\n",
       "  <thead>\n",
       "    <tr style=\"text-align: right;\">\n",
       "      <th></th>\n",
       "      <th>actual</th>\n",
       "      <th>predicted</th>\n",
       "      <th>error</th>\n",
       "    </tr>\n",
       "  </thead>\n",
       "  <tbody>\n",
       "    <tr>\n",
       "      <th>11981</th>\n",
       "      <td>294.066667</td>\n",
       "      <td>223.058697</td>\n",
       "      <td>71.007970</td>\n",
       "    </tr>\n",
       "    <tr>\n",
       "      <th>82720</th>\n",
       "      <td>328.716667</td>\n",
       "      <td>282.099611</td>\n",
       "      <td>46.617056</td>\n",
       "    </tr>\n",
       "    <tr>\n",
       "      <th>40328</th>\n",
       "      <td>217.250000</td>\n",
       "      <td>244.254725</td>\n",
       "      <td>27.004725</td>\n",
       "    </tr>\n",
       "    <tr>\n",
       "      <th>78115</th>\n",
       "      <td>245.983333</td>\n",
       "      <td>240.507635</td>\n",
       "      <td>5.475699</td>\n",
       "    </tr>\n",
       "    <tr>\n",
       "      <th>90929</th>\n",
       "      <td>263.600000</td>\n",
       "      <td>223.244416</td>\n",
       "      <td>40.355584</td>\n",
       "    </tr>\n",
       "    <tr>\n",
       "      <th>...</th>\n",
       "      <td>...</td>\n",
       "      <td>...</td>\n",
       "      <td>...</td>\n",
       "    </tr>\n",
       "    <tr>\n",
       "      <th>5151</th>\n",
       "      <td>264.516667</td>\n",
       "      <td>238.471425</td>\n",
       "      <td>26.045241</td>\n",
       "    </tr>\n",
       "    <tr>\n",
       "      <th>26368</th>\n",
       "      <td>280.900000</td>\n",
       "      <td>241.470773</td>\n",
       "      <td>39.429227</td>\n",
       "    </tr>\n",
       "    <tr>\n",
       "      <th>32936</th>\n",
       "      <td>239.783333</td>\n",
       "      <td>222.981141</td>\n",
       "      <td>16.802193</td>\n",
       "    </tr>\n",
       "    <tr>\n",
       "      <th>118284</th>\n",
       "      <td>289.800000</td>\n",
       "      <td>240.855213</td>\n",
       "      <td>48.944787</td>\n",
       "    </tr>\n",
       "    <tr>\n",
       "      <th>95961</th>\n",
       "      <td>198.866667</td>\n",
       "      <td>204.538275</td>\n",
       "      <td>5.671609</td>\n",
       "    </tr>\n",
       "  </tbody>\n",
       "</table>\n",
       "<p>24128 rows × 3 columns</p>\n",
       "</div>"
      ],
      "text/plain": [
       "            actual   predicted      error\n",
       "11981   294.066667  223.058697  71.007970\n",
       "82720   328.716667  282.099611  46.617056\n",
       "40328   217.250000  244.254725  27.004725\n",
       "78115   245.983333  240.507635   5.475699\n",
       "90929   263.600000  223.244416  40.355584\n",
       "...            ...         ...        ...\n",
       "5151    264.516667  238.471425  26.045241\n",
       "26368   280.900000  241.470773  39.429227\n",
       "32936   239.783333  222.981141  16.802193\n",
       "118284  289.800000  240.855213  48.944787\n",
       "95961   198.866667  204.538275   5.671609\n",
       "\n",
       "[24128 rows x 3 columns]"
      ]
     },
     "execution_count": 45,
     "metadata": {},
     "output_type": "execute_result"
    },
    {
     "data": {
      "image/png": "[encoded data removed]",
      "text/plain": [
       "<Figure size 432x288 with 1 Axes>"
      ]
     },
     "metadata": {},
     "output_type": "display_data"
    }
   ],
   "source": [
    "rf = RandomForestRegressor(n_estimators=200, max_depth=12)\n",
    "rf.fit(X_train, y_train)\n",
    "y_pred = rf.predict(X_test)\n",
    "\n",
    "result = pd.DataFrame({\"actual\":y_test/60, \"predicted\":y_pred/60})\n",
    "result['error'] = abs(result['predicted']-result['actual'])\n",
    "\n",
    "print(np.mean(result['error']))\n",
    "result['error'].hist()\n",
    "\n",
    "result"
   ]
  },
  {
   "cell_type": "markdown",
   "id": "c35145ed",
   "metadata": {},
   "source": [
    "# Split times\n",
    "As previously stated, there is a strong relationship between split times and finish times. Naturally, incorporating them into our model(s) should improve accuracy. This means that as the runner progresses through the race, we can predict their final finish time with greater accuracy.\n",
    "\n",
    "The final steps are as follows:\n",
    "- Create 9 prediction models\n",
    "- Each model gradually adds split features, starting from no features up to 40 km.\n",
    "- Deploy the models and assess their accuracy to showcase the difference.\n",
    "- Collect the models into a list and they're ready for use"
   ]
  },
  {
   "cell_type": "markdown",
   "id": "2700ebaa",
   "metadata": {},
   "source": [
    "**apply_prediction(X, y):**\n",
    "- Splits into train and test cases, scales the data, applies machine learning model\n",
    "- returns: dataframe that displays the error, model"
   ]
  },
  {
   "cell_type": "code",
   "execution_count": 46,
   "id": "fafd203e",
   "metadata": {},
   "outputs": [],
   "source": [
    "def apply_prediction(X, y):\n",
    "    X_train, X_test, y_train, y_test = train_test_split(X, y, test_size=0.2, random_state=42)\n",
    "    \n",
    "    scaler = StandardScaler()\n",
    "    X_train = scaler.fit_transform(X_train)\n",
    "    X_test = scaler.transform(X_test)\n",
    "    \n",
    "    \n",
    "    rf = RandomForestRegressor(n_estimators=200, max_depth=12) # We are using our parameters\n",
    "    rf.fit(X_train, y_train)\n",
    "    y_pred = rf.predict(X_test)\n",
    "    result = pd.DataFrame({\"actual\":y_test/60, \"predicted\":y_pred/60})\n",
    "    result['error'] = abs(result['predicted']-result['actual'])\n",
    "    print(np.mean(result['error']))\n",
    "    result['error'].hist()\n",
    "    return result, rf"
   ]
  },
  {
   "cell_type": "markdown",
   "id": "7f12f0d2",
   "metadata": {},
   "source": [
    "#### Model 1 (no split times)"
   ]
  },
  {
   "cell_type": "code",
   "execution_count": 47,
   "id": "43526165",
   "metadata": {
    "scrolled": false
   },
   "outputs": [
    {
     "name": "stdout",
     "output_type": "stream",
     "text": [
      "23.77272190534897\n"
     ]
    },
    {
     "data": {
      "text/html": [
       "<div>\n",
       "<style scoped>\n",
       "    .dataframe tbody tr th:only-of-type {\n",
       "        vertical-align: middle;\n",
       "    }\n",
       "\n",
       "    .dataframe tbody tr th {\n",
       "        vertical-align: top;\n",
       "    }\n",
       "\n",
       "    .dataframe thead th {\n",
       "        text-align: right;\n",
       "    }\n",
       "</style>\n",
       "<table border=\"1\" class=\"dataframe\">\n",
       "  <thead>\n",
       "    <tr style=\"text-align: right;\">\n",
       "      <th></th>\n",
       "      <th>actual</th>\n",
       "      <th>predicted</th>\n",
       "      <th>error</th>\n",
       "    </tr>\n",
       "  </thead>\n",
       "  <tbody>\n",
       "    <tr>\n",
       "      <th>11981</th>\n",
       "      <td>294.066667</td>\n",
       "      <td>224.533299</td>\n",
       "      <td>69.533367</td>\n",
       "    </tr>\n",
       "    <tr>\n",
       "      <th>82720</th>\n",
       "      <td>328.716667</td>\n",
       "      <td>282.463319</td>\n",
       "      <td>46.253348</td>\n",
       "    </tr>\n",
       "    <tr>\n",
       "      <th>40328</th>\n",
       "      <td>217.250000</td>\n",
       "      <td>243.951400</td>\n",
       "      <td>26.701400</td>\n",
       "    </tr>\n",
       "    <tr>\n",
       "      <th>78115</th>\n",
       "      <td>245.983333</td>\n",
       "      <td>240.812540</td>\n",
       "      <td>5.170793</td>\n",
       "    </tr>\n",
       "    <tr>\n",
       "      <th>90929</th>\n",
       "      <td>263.600000</td>\n",
       "      <td>224.502598</td>\n",
       "      <td>39.097402</td>\n",
       "    </tr>\n",
       "    <tr>\n",
       "      <th>...</th>\n",
       "      <td>...</td>\n",
       "      <td>...</td>\n",
       "      <td>...</td>\n",
       "    </tr>\n",
       "    <tr>\n",
       "      <th>5151</th>\n",
       "      <td>264.516667</td>\n",
       "      <td>240.151430</td>\n",
       "      <td>24.365237</td>\n",
       "    </tr>\n",
       "    <tr>\n",
       "      <th>26368</th>\n",
       "      <td>280.900000</td>\n",
       "      <td>242.952580</td>\n",
       "      <td>37.947420</td>\n",
       "    </tr>\n",
       "    <tr>\n",
       "      <th>32936</th>\n",
       "      <td>239.783333</td>\n",
       "      <td>222.971923</td>\n",
       "      <td>16.811410</td>\n",
       "    </tr>\n",
       "    <tr>\n",
       "      <th>118284</th>\n",
       "      <td>289.800000</td>\n",
       "      <td>241.059540</td>\n",
       "      <td>48.740460</td>\n",
       "    </tr>\n",
       "    <tr>\n",
       "      <th>95961</th>\n",
       "      <td>198.866667</td>\n",
       "      <td>203.602047</td>\n",
       "      <td>4.735380</td>\n",
       "    </tr>\n",
       "  </tbody>\n",
       "</table>\n",
       "<p>24128 rows × 3 columns</p>\n",
       "</div>"
      ],
      "text/plain": [
       "            actual   predicted      error\n",
       "11981   294.066667  224.533299  69.533367\n",
       "82720   328.716667  282.463319  46.253348\n",
       "40328   217.250000  243.951400  26.701400\n",
       "78115   245.983333  240.812540   5.170793\n",
       "90929   263.600000  224.502598  39.097402\n",
       "...            ...         ...        ...\n",
       "5151    264.516667  240.151430  24.365237\n",
       "26368   280.900000  242.952580  37.947420\n",
       "32936   239.783333  222.971923  16.811410\n",
       "118284  289.800000  241.059540  48.740460\n",
       "95961   198.866667  203.602047   4.735380\n",
       "\n",
       "[24128 rows x 3 columns]"
      ]
     },
     "execution_count": 47,
     "metadata": {},
     "output_type": "execute_result"
    },
    {
     "data": {
      "image/png": "[encoded data removed]",
      "text/plain": [
       "<Figure size 432x288 with 1 Axes>"
      ]
     },
     "metadata": {},
     "output_type": "display_data"
    }
   ],
   "source": [
    "result, m1 = apply_prediction(df_num[['bib', 'category','country','gender_M', 'gender_F']], df_num['km_finish'])\n",
    "result"
   ]
  },
  {
   "cell_type": "markdown",
   "id": "f69303d1",
   "metadata": {},
   "source": [
    "#### Model 2 (5KM)"
   ]
  },
  {
   "cell_type": "code",
   "execution_count": 48,
   "id": "93fda986",
   "metadata": {
    "scrolled": true
   },
   "outputs": [
    {
     "name": "stdout",
     "output_type": "stream",
     "text": [
      "12.101922833581813\n"
     ]
    },
    {
     "data": {
      "text/html": [
       "<div>\n",
       "<style scoped>\n",
       "    .dataframe tbody tr th:only-of-type {\n",
       "        vertical-align: middle;\n",
       "    }\n",
       "\n",
       "    .dataframe tbody tr th {\n",
       "        vertical-align: top;\n",
       "    }\n",
       "\n",
       "    .dataframe thead th {\n",
       "        text-align: right;\n",
       "    }\n",
       "</style>\n",
       "<table border=\"1\" class=\"dataframe\">\n",
       "  <thead>\n",
       "    <tr style=\"text-align: right;\">\n",
       "      <th></th>\n",
       "      <th>actual</th>\n",
       "      <th>predicted</th>\n",
       "      <th>error</th>\n",
       "    </tr>\n",
       "  </thead>\n",
       "  <tbody>\n",
       "    <tr>\n",
       "      <th>11981</th>\n",
       "      <td>294.066667</td>\n",
       "      <td>251.288579</td>\n",
       "      <td>42.778087</td>\n",
       "    </tr>\n",
       "    <tr>\n",
       "      <th>82720</th>\n",
       "      <td>328.716667</td>\n",
       "      <td>292.951824</td>\n",
       "      <td>35.764843</td>\n",
       "    </tr>\n",
       "    <tr>\n",
       "      <th>40328</th>\n",
       "      <td>217.250000</td>\n",
       "      <td>231.056785</td>\n",
       "      <td>13.806785</td>\n",
       "    </tr>\n",
       "    <tr>\n",
       "      <th>78115</th>\n",
       "      <td>245.983333</td>\n",
       "      <td>273.443502</td>\n",
       "      <td>27.460169</td>\n",
       "    </tr>\n",
       "    <tr>\n",
       "      <th>90929</th>\n",
       "      <td>263.600000</td>\n",
       "      <td>276.517544</td>\n",
       "      <td>12.917544</td>\n",
       "    </tr>\n",
       "    <tr>\n",
       "      <th>...</th>\n",
       "      <td>...</td>\n",
       "      <td>...</td>\n",
       "      <td>...</td>\n",
       "    </tr>\n",
       "    <tr>\n",
       "      <th>5151</th>\n",
       "      <td>264.516667</td>\n",
       "      <td>242.093195</td>\n",
       "      <td>22.423472</td>\n",
       "    </tr>\n",
       "    <tr>\n",
       "      <th>26368</th>\n",
       "      <td>280.900000</td>\n",
       "      <td>290.425474</td>\n",
       "      <td>9.525474</td>\n",
       "    </tr>\n",
       "    <tr>\n",
       "      <th>32936</th>\n",
       "      <td>239.783333</td>\n",
       "      <td>250.714886</td>\n",
       "      <td>10.931552</td>\n",
       "    </tr>\n",
       "    <tr>\n",
       "      <th>118284</th>\n",
       "      <td>289.800000</td>\n",
       "      <td>278.173692</td>\n",
       "      <td>11.626308</td>\n",
       "    </tr>\n",
       "    <tr>\n",
       "      <th>95961</th>\n",
       "      <td>198.866667</td>\n",
       "      <td>202.336030</td>\n",
       "      <td>3.469364</td>\n",
       "    </tr>\n",
       "  </tbody>\n",
       "</table>\n",
       "<p>24128 rows × 3 columns</p>\n",
       "</div>"
      ],
      "text/plain": [
       "            actual   predicted      error\n",
       "11981   294.066667  251.288579  42.778087\n",
       "82720   328.716667  292.951824  35.764843\n",
       "40328   217.250000  231.056785  13.806785\n",
       "78115   245.983333  273.443502  27.460169\n",
       "90929   263.600000  276.517544  12.917544\n",
       "...            ...         ...        ...\n",
       "5151    264.516667  242.093195  22.423472\n",
       "26368   280.900000  290.425474   9.525474\n",
       "32936   239.783333  250.714886  10.931552\n",
       "118284  289.800000  278.173692  11.626308\n",
       "95961   198.866667  202.336030   3.469364\n",
       "\n",
       "[24128 rows x 3 columns]"
      ]
     },
     "execution_count": 48,
     "metadata": {},
     "output_type": "execute_result"
    },
    {
     "data": {
      "image/png": "[encoded data removed]",
      "text/plain": [
       "<Figure size 432x288 with 1 Axes>"
      ]
     },
     "metadata": {},
     "output_type": "display_data"
    }
   ],
   "source": [
    "result, m2 = apply_prediction(df_num[['bib', 'category','country','gender_M', 'gender_F', \n",
    "                         'km_5']], df_num['km_finish'])\n",
    "result"
   ]
  },
  {
   "cell_type": "markdown",
   "id": "4b819a78",
   "metadata": {},
   "source": [
    "#### Model 3 (5KM, 10KM)"
   ]
  },
  {
   "cell_type": "code",
   "execution_count": 49,
   "id": "3e3f7796",
   "metadata": {},
   "outputs": [
    {
     "name": "stdout",
     "output_type": "stream",
     "text": [
      "10.744889981519098\n"
     ]
    },
    {
     "data": {
      "text/html": [
       "<div>\n",
       "<style scoped>\n",
       "    .dataframe tbody tr th:only-of-type {\n",
       "        vertical-align: middle;\n",
       "    }\n",
       "\n",
       "    .dataframe tbody tr th {\n",
       "        vertical-align: top;\n",
       "    }\n",
       "\n",
       "    .dataframe thead th {\n",
       "        text-align: right;\n",
       "    }\n",
       "</style>\n",
       "<table border=\"1\" class=\"dataframe\">\n",
       "  <thead>\n",
       "    <tr style=\"text-align: right;\">\n",
       "      <th></th>\n",
       "      <th>actual</th>\n",
       "      <th>predicted</th>\n",
       "      <th>error</th>\n",
       "    </tr>\n",
       "  </thead>\n",
       "  <tbody>\n",
       "    <tr>\n",
       "      <th>11981</th>\n",
       "      <td>294.066667</td>\n",
       "      <td>239.686135</td>\n",
       "      <td>54.380532</td>\n",
       "    </tr>\n",
       "    <tr>\n",
       "      <th>82720</th>\n",
       "      <td>328.716667</td>\n",
       "      <td>308.748282</td>\n",
       "      <td>19.968384</td>\n",
       "    </tr>\n",
       "    <tr>\n",
       "      <th>40328</th>\n",
       "      <td>217.250000</td>\n",
       "      <td>226.900956</td>\n",
       "      <td>9.650956</td>\n",
       "    </tr>\n",
       "    <tr>\n",
       "      <th>78115</th>\n",
       "      <td>245.983333</td>\n",
       "      <td>271.934380</td>\n",
       "      <td>25.951046</td>\n",
       "    </tr>\n",
       "    <tr>\n",
       "      <th>90929</th>\n",
       "      <td>263.600000</td>\n",
       "      <td>274.099983</td>\n",
       "      <td>10.499983</td>\n",
       "    </tr>\n",
       "    <tr>\n",
       "      <th>...</th>\n",
       "      <td>...</td>\n",
       "      <td>...</td>\n",
       "      <td>...</td>\n",
       "    </tr>\n",
       "    <tr>\n",
       "      <th>5151</th>\n",
       "      <td>264.516667</td>\n",
       "      <td>244.861139</td>\n",
       "      <td>19.655527</td>\n",
       "    </tr>\n",
       "    <tr>\n",
       "      <th>26368</th>\n",
       "      <td>280.900000</td>\n",
       "      <td>291.112919</td>\n",
       "      <td>10.212919</td>\n",
       "    </tr>\n",
       "    <tr>\n",
       "      <th>32936</th>\n",
       "      <td>239.783333</td>\n",
       "      <td>245.497830</td>\n",
       "      <td>5.714497</td>\n",
       "    </tr>\n",
       "    <tr>\n",
       "      <th>118284</th>\n",
       "      <td>289.800000</td>\n",
       "      <td>276.016134</td>\n",
       "      <td>13.783866</td>\n",
       "    </tr>\n",
       "    <tr>\n",
       "      <th>95961</th>\n",
       "      <td>198.866667</td>\n",
       "      <td>204.021256</td>\n",
       "      <td>5.154589</td>\n",
       "    </tr>\n",
       "  </tbody>\n",
       "</table>\n",
       "<p>24128 rows × 3 columns</p>\n",
       "</div>"
      ],
      "text/plain": [
       "            actual   predicted      error\n",
       "11981   294.066667  239.686135  54.380532\n",
       "82720   328.716667  308.748282  19.968384\n",
       "40328   217.250000  226.900956   9.650956\n",
       "78115   245.983333  271.934380  25.951046\n",
       "90929   263.600000  274.099983  10.499983\n",
       "...            ...         ...        ...\n",
       "5151    264.516667  244.861139  19.655527\n",
       "26368   280.900000  291.112919  10.212919\n",
       "32936   239.783333  245.497830   5.714497\n",
       "118284  289.800000  276.016134  13.783866\n",
       "95961   198.866667  204.021256   5.154589\n",
       "\n",
       "[24128 rows x 3 columns]"
      ]
     },
     "execution_count": 49,
     "metadata": {},
     "output_type": "execute_result"
    },
    {
     "data": {
      "image/png": "[encoded data removed]",
      "text/plain": [
       "<Figure size 432x288 with 1 Axes>"
      ]
     },
     "metadata": {},
     "output_type": "display_data"
    }
   ],
   "source": [
    "result, m3 = apply_prediction(df_num[['bib', 'category','country','gender_M', 'gender_F', \n",
    "                         'km_5','km_10']], df_num['km_finish'])\n",
    "result"
   ]
  },
  {
   "cell_type": "markdown",
   "id": "19cc112c",
   "metadata": {},
   "source": [
    "#### Model 4 (5KM, 10KM, 15KM)"
   ]
  },
  {
   "cell_type": "code",
   "execution_count": 50,
   "id": "779649ea",
   "metadata": {},
   "outputs": [
    {
     "name": "stdout",
     "output_type": "stream",
     "text": [
      "9.493649058509972\n"
     ]
    },
    {
     "data": {
      "text/html": [
       "<div>\n",
       "<style scoped>\n",
       "    .dataframe tbody tr th:only-of-type {\n",
       "        vertical-align: middle;\n",
       "    }\n",
       "\n",
       "    .dataframe tbody tr th {\n",
       "        vertical-align: top;\n",
       "    }\n",
       "\n",
       "    .dataframe thead th {\n",
       "        text-align: right;\n",
       "    }\n",
       "</style>\n",
       "<table border=\"1\" class=\"dataframe\">\n",
       "  <thead>\n",
       "    <tr style=\"text-align: right;\">\n",
       "      <th></th>\n",
       "      <th>actual</th>\n",
       "      <th>predicted</th>\n",
       "      <th>error</th>\n",
       "    </tr>\n",
       "  </thead>\n",
       "  <tbody>\n",
       "    <tr>\n",
       "      <th>11981</th>\n",
       "      <td>294.066667</td>\n",
       "      <td>261.497171</td>\n",
       "      <td>32.569495</td>\n",
       "    </tr>\n",
       "    <tr>\n",
       "      <th>82720</th>\n",
       "      <td>328.716667</td>\n",
       "      <td>318.745793</td>\n",
       "      <td>9.970874</td>\n",
       "    </tr>\n",
       "    <tr>\n",
       "      <th>40328</th>\n",
       "      <td>217.250000</td>\n",
       "      <td>222.755528</td>\n",
       "      <td>5.505528</td>\n",
       "    </tr>\n",
       "    <tr>\n",
       "      <th>78115</th>\n",
       "      <td>245.983333</td>\n",
       "      <td>267.629178</td>\n",
       "      <td>21.645845</td>\n",
       "    </tr>\n",
       "    <tr>\n",
       "      <th>90929</th>\n",
       "      <td>263.600000</td>\n",
       "      <td>270.633607</td>\n",
       "      <td>7.033607</td>\n",
       "    </tr>\n",
       "    <tr>\n",
       "      <th>...</th>\n",
       "      <td>...</td>\n",
       "      <td>...</td>\n",
       "      <td>...</td>\n",
       "    </tr>\n",
       "    <tr>\n",
       "      <th>5151</th>\n",
       "      <td>264.516667</td>\n",
       "      <td>250.477432</td>\n",
       "      <td>14.039235</td>\n",
       "    </tr>\n",
       "    <tr>\n",
       "      <th>26368</th>\n",
       "      <td>280.900000</td>\n",
       "      <td>291.506591</td>\n",
       "      <td>10.606591</td>\n",
       "    </tr>\n",
       "    <tr>\n",
       "      <th>32936</th>\n",
       "      <td>239.783333</td>\n",
       "      <td>249.805485</td>\n",
       "      <td>10.022152</td>\n",
       "    </tr>\n",
       "    <tr>\n",
       "      <th>118284</th>\n",
       "      <td>289.800000</td>\n",
       "      <td>270.552141</td>\n",
       "      <td>19.247859</td>\n",
       "    </tr>\n",
       "    <tr>\n",
       "      <th>95961</th>\n",
       "      <td>198.866667</td>\n",
       "      <td>206.857340</td>\n",
       "      <td>7.990673</td>\n",
       "    </tr>\n",
       "  </tbody>\n",
       "</table>\n",
       "<p>24128 rows × 3 columns</p>\n",
       "</div>"
      ],
      "text/plain": [
       "            actual   predicted      error\n",
       "11981   294.066667  261.497171  32.569495\n",
       "82720   328.716667  318.745793   9.970874\n",
       "40328   217.250000  222.755528   5.505528\n",
       "78115   245.983333  267.629178  21.645845\n",
       "90929   263.600000  270.633607   7.033607\n",
       "...            ...         ...        ...\n",
       "5151    264.516667  250.477432  14.039235\n",
       "26368   280.900000  291.506591  10.606591\n",
       "32936   239.783333  249.805485  10.022152\n",
       "118284  289.800000  270.552141  19.247859\n",
       "95961   198.866667  206.857340   7.990673\n",
       "\n",
       "[24128 rows x 3 columns]"
      ]
     },
     "execution_count": 50,
     "metadata": {},
     "output_type": "execute_result"
    },
    {
     "data": {
      "image/png": "[encoded data removed]",
      "text/plain": [
       "<Figure size 432x288 with 1 Axes>"
      ]
     },
     "metadata": {},
     "output_type": "display_data"
    }
   ],
   "source": [
    "result, m4 = apply_prediction(df_num[['bib', 'category','country','gender_M', 'gender_F', \n",
    "                         'km_5','km_10','km_15']], df_num['km_finish'])\n",
    "result"
   ]
  },
  {
   "cell_type": "markdown",
   "id": "ccf33841",
   "metadata": {},
   "source": [
    "#### Model 5 (5KM, 10KM, 15KM, 20KM)"
   ]
  },
  {
   "cell_type": "code",
   "execution_count": 51,
   "id": "8a22e2df",
   "metadata": {},
   "outputs": [
    {
     "name": "stdout",
     "output_type": "stream",
     "text": [
      "7.881058148846326\n"
     ]
    },
    {
     "data": {
      "text/html": [
       "<div>\n",
       "<style scoped>\n",
       "    .dataframe tbody tr th:only-of-type {\n",
       "        vertical-align: middle;\n",
       "    }\n",
       "\n",
       "    .dataframe tbody tr th {\n",
       "        vertical-align: top;\n",
       "    }\n",
       "\n",
       "    .dataframe thead th {\n",
       "        text-align: right;\n",
       "    }\n",
       "</style>\n",
       "<table border=\"1\" class=\"dataframe\">\n",
       "  <thead>\n",
       "    <tr style=\"text-align: right;\">\n",
       "      <th></th>\n",
       "      <th>actual</th>\n",
       "      <th>predicted</th>\n",
       "      <th>error</th>\n",
       "    </tr>\n",
       "  </thead>\n",
       "  <tbody>\n",
       "    <tr>\n",
       "      <th>11981</th>\n",
       "      <td>294.066667</td>\n",
       "      <td>290.326908</td>\n",
       "      <td>3.739759</td>\n",
       "    </tr>\n",
       "    <tr>\n",
       "      <th>82720</th>\n",
       "      <td>328.716667</td>\n",
       "      <td>324.985581</td>\n",
       "      <td>3.731086</td>\n",
       "    </tr>\n",
       "    <tr>\n",
       "      <th>40328</th>\n",
       "      <td>217.250000</td>\n",
       "      <td>221.931203</td>\n",
       "      <td>4.681203</td>\n",
       "    </tr>\n",
       "    <tr>\n",
       "      <th>78115</th>\n",
       "      <td>245.983333</td>\n",
       "      <td>256.980030</td>\n",
       "      <td>10.996696</td>\n",
       "    </tr>\n",
       "    <tr>\n",
       "      <th>90929</th>\n",
       "      <td>263.600000</td>\n",
       "      <td>268.488487</td>\n",
       "      <td>4.888487</td>\n",
       "    </tr>\n",
       "    <tr>\n",
       "      <th>...</th>\n",
       "      <td>...</td>\n",
       "      <td>...</td>\n",
       "      <td>...</td>\n",
       "    </tr>\n",
       "    <tr>\n",
       "      <th>5151</th>\n",
       "      <td>264.516667</td>\n",
       "      <td>260.585408</td>\n",
       "      <td>3.931259</td>\n",
       "    </tr>\n",
       "    <tr>\n",
       "      <th>26368</th>\n",
       "      <td>280.900000</td>\n",
       "      <td>282.541789</td>\n",
       "      <td>1.641789</td>\n",
       "    </tr>\n",
       "    <tr>\n",
       "      <th>32936</th>\n",
       "      <td>239.783333</td>\n",
       "      <td>249.504500</td>\n",
       "      <td>9.721166</td>\n",
       "    </tr>\n",
       "    <tr>\n",
       "      <th>118284</th>\n",
       "      <td>289.800000</td>\n",
       "      <td>281.450679</td>\n",
       "      <td>8.349321</td>\n",
       "    </tr>\n",
       "    <tr>\n",
       "      <th>95961</th>\n",
       "      <td>198.866667</td>\n",
       "      <td>202.327483</td>\n",
       "      <td>3.460816</td>\n",
       "    </tr>\n",
       "  </tbody>\n",
       "</table>\n",
       "<p>24128 rows × 3 columns</p>\n",
       "</div>"
      ],
      "text/plain": [
       "            actual   predicted      error\n",
       "11981   294.066667  290.326908   3.739759\n",
       "82720   328.716667  324.985581   3.731086\n",
       "40328   217.250000  221.931203   4.681203\n",
       "78115   245.983333  256.980030  10.996696\n",
       "90929   263.600000  268.488487   4.888487\n",
       "...            ...         ...        ...\n",
       "5151    264.516667  260.585408   3.931259\n",
       "26368   280.900000  282.541789   1.641789\n",
       "32936   239.783333  249.504500   9.721166\n",
       "118284  289.800000  281.450679   8.349321\n",
       "95961   198.866667  202.327483   3.460816\n",
       "\n",
       "[24128 rows x 3 columns]"
      ]
     },
     "execution_count": 51,
     "metadata": {},
     "output_type": "execute_result"
    },
    {
     "data": {
      "image/png": "[encoded data removed]",
      "text/plain": [
       "<Figure size 432x288 with 1 Axes>"
      ]
     },
     "metadata": {},
     "output_type": "display_data"
    }
   ],
   "source": [
    "result, m5 = apply_prediction(df_num[['bib', 'category','country','gender_M', 'gender_F', \n",
    "                         'km_5','km_10','km_15','km_20']], df_num['km_finish'])\n",
    "result"
   ]
  },
  {
   "cell_type": "markdown",
   "id": "94ae34e0",
   "metadata": {},
   "source": [
    "#### Model 6 (5KM, 10KM, 15KM, 20KM, 25KM)"
   ]
  },
  {
   "cell_type": "code",
   "execution_count": 52,
   "id": "500ef326",
   "metadata": {},
   "outputs": [
    {
     "name": "stdout",
     "output_type": "stream",
     "text": [
      "6.094657712303312\n"
     ]
    },
    {
     "data": {
      "text/html": [
       "<div>\n",
       "<style scoped>\n",
       "    .dataframe tbody tr th:only-of-type {\n",
       "        vertical-align: middle;\n",
       "    }\n",
       "\n",
       "    .dataframe tbody tr th {\n",
       "        vertical-align: top;\n",
       "    }\n",
       "\n",
       "    .dataframe thead th {\n",
       "        text-align: right;\n",
       "    }\n",
       "</style>\n",
       "<table border=\"1\" class=\"dataframe\">\n",
       "  <thead>\n",
       "    <tr style=\"text-align: right;\">\n",
       "      <th></th>\n",
       "      <th>actual</th>\n",
       "      <th>predicted</th>\n",
       "      <th>error</th>\n",
       "    </tr>\n",
       "  </thead>\n",
       "  <tbody>\n",
       "    <tr>\n",
       "      <th>11981</th>\n",
       "      <td>294.066667</td>\n",
       "      <td>298.114854</td>\n",
       "      <td>4.048188</td>\n",
       "    </tr>\n",
       "    <tr>\n",
       "      <th>82720</th>\n",
       "      <td>328.716667</td>\n",
       "      <td>327.730094</td>\n",
       "      <td>0.986573</td>\n",
       "    </tr>\n",
       "    <tr>\n",
       "      <th>40328</th>\n",
       "      <td>217.250000</td>\n",
       "      <td>220.254166</td>\n",
       "      <td>3.004166</td>\n",
       "    </tr>\n",
       "    <tr>\n",
       "      <th>78115</th>\n",
       "      <td>245.983333</td>\n",
       "      <td>243.570599</td>\n",
       "      <td>2.412734</td>\n",
       "    </tr>\n",
       "    <tr>\n",
       "      <th>90929</th>\n",
       "      <td>263.600000</td>\n",
       "      <td>269.346320</td>\n",
       "      <td>5.746320</td>\n",
       "    </tr>\n",
       "    <tr>\n",
       "      <th>...</th>\n",
       "      <td>...</td>\n",
       "      <td>...</td>\n",
       "      <td>...</td>\n",
       "    </tr>\n",
       "    <tr>\n",
       "      <th>5151</th>\n",
       "      <td>264.516667</td>\n",
       "      <td>266.494811</td>\n",
       "      <td>1.978144</td>\n",
       "    </tr>\n",
       "    <tr>\n",
       "      <th>26368</th>\n",
       "      <td>280.900000</td>\n",
       "      <td>277.209190</td>\n",
       "      <td>3.690810</td>\n",
       "    </tr>\n",
       "    <tr>\n",
       "      <th>32936</th>\n",
       "      <td>239.783333</td>\n",
       "      <td>244.242691</td>\n",
       "      <td>4.459358</td>\n",
       "    </tr>\n",
       "    <tr>\n",
       "      <th>118284</th>\n",
       "      <td>289.800000</td>\n",
       "      <td>289.840525</td>\n",
       "      <td>0.040525</td>\n",
       "    </tr>\n",
       "    <tr>\n",
       "      <th>95961</th>\n",
       "      <td>198.866667</td>\n",
       "      <td>201.407309</td>\n",
       "      <td>2.540642</td>\n",
       "    </tr>\n",
       "  </tbody>\n",
       "</table>\n",
       "<p>24128 rows × 3 columns</p>\n",
       "</div>"
      ],
      "text/plain": [
       "            actual   predicted     error\n",
       "11981   294.066667  298.114854  4.048188\n",
       "82720   328.716667  327.730094  0.986573\n",
       "40328   217.250000  220.254166  3.004166\n",
       "78115   245.983333  243.570599  2.412734\n",
       "90929   263.600000  269.346320  5.746320\n",
       "...            ...         ...       ...\n",
       "5151    264.516667  266.494811  1.978144\n",
       "26368   280.900000  277.209190  3.690810\n",
       "32936   239.783333  244.242691  4.459358\n",
       "118284  289.800000  289.840525  0.040525\n",
       "95961   198.866667  201.407309  2.540642\n",
       "\n",
       "[24128 rows x 3 columns]"
      ]
     },
     "execution_count": 52,
     "metadata": {},
     "output_type": "execute_result"
    },
    {
     "data": {
      "image/png": "[encoded data removed]",
      "text/plain": [
       "<Figure size 432x288 with 1 Axes>"
      ]
     },
     "metadata": {},
     "output_type": "display_data"
    }
   ],
   "source": [
    "result, m6 = apply_prediction(df_num[['bib', 'category','country','gender_M', 'gender_F', \n",
    "                         'km_5','km_10','km_15','km_20','km_25']], df_num['km_finish'])\n",
    "result"
   ]
  },
  {
   "cell_type": "markdown",
   "id": "ff6929db",
   "metadata": {},
   "source": [
    "#### Model 7 (5KM, 10KM, 15KM, 20KM, 25KM, 30KM)"
   ]
  },
  {
   "cell_type": "code",
   "execution_count": 53,
   "id": "2880b6ee",
   "metadata": {},
   "outputs": [
    {
     "name": "stdout",
     "output_type": "stream",
     "text": [
      "4.023496357561617\n"
     ]
    },
    {
     "data": {
      "text/html": [
       "<div>\n",
       "<style scoped>\n",
       "    .dataframe tbody tr th:only-of-type {\n",
       "        vertical-align: middle;\n",
       "    }\n",
       "\n",
       "    .dataframe tbody tr th {\n",
       "        vertical-align: top;\n",
       "    }\n",
       "\n",
       "    .dataframe thead th {\n",
       "        text-align: right;\n",
       "    }\n",
       "</style>\n",
       "<table border=\"1\" class=\"dataframe\">\n",
       "  <thead>\n",
       "    <tr style=\"text-align: right;\">\n",
       "      <th></th>\n",
       "      <th>actual</th>\n",
       "      <th>predicted</th>\n",
       "      <th>error</th>\n",
       "    </tr>\n",
       "  </thead>\n",
       "  <tbody>\n",
       "    <tr>\n",
       "      <th>11981</th>\n",
       "      <td>294.066667</td>\n",
       "      <td>294.353916</td>\n",
       "      <td>0.287250</td>\n",
       "    </tr>\n",
       "    <tr>\n",
       "      <th>82720</th>\n",
       "      <td>328.716667</td>\n",
       "      <td>328.045874</td>\n",
       "      <td>0.670793</td>\n",
       "    </tr>\n",
       "    <tr>\n",
       "      <th>40328</th>\n",
       "      <td>217.250000</td>\n",
       "      <td>218.175718</td>\n",
       "      <td>0.925718</td>\n",
       "    </tr>\n",
       "    <tr>\n",
       "      <th>78115</th>\n",
       "      <td>245.983333</td>\n",
       "      <td>242.895609</td>\n",
       "      <td>3.087725</td>\n",
       "    </tr>\n",
       "    <tr>\n",
       "      <th>90929</th>\n",
       "      <td>263.600000</td>\n",
       "      <td>266.528189</td>\n",
       "      <td>2.928189</td>\n",
       "    </tr>\n",
       "    <tr>\n",
       "      <th>...</th>\n",
       "      <td>...</td>\n",
       "      <td>...</td>\n",
       "      <td>...</td>\n",
       "    </tr>\n",
       "    <tr>\n",
       "      <th>5151</th>\n",
       "      <td>264.516667</td>\n",
       "      <td>267.667526</td>\n",
       "      <td>3.150859</td>\n",
       "    </tr>\n",
       "    <tr>\n",
       "      <th>26368</th>\n",
       "      <td>280.900000</td>\n",
       "      <td>269.044246</td>\n",
       "      <td>11.855754</td>\n",
       "    </tr>\n",
       "    <tr>\n",
       "      <th>32936</th>\n",
       "      <td>239.783333</td>\n",
       "      <td>243.284237</td>\n",
       "      <td>3.500903</td>\n",
       "    </tr>\n",
       "    <tr>\n",
       "      <th>118284</th>\n",
       "      <td>289.800000</td>\n",
       "      <td>287.490231</td>\n",
       "      <td>2.309769</td>\n",
       "    </tr>\n",
       "    <tr>\n",
       "      <th>95961</th>\n",
       "      <td>198.866667</td>\n",
       "      <td>201.071873</td>\n",
       "      <td>2.205206</td>\n",
       "    </tr>\n",
       "  </tbody>\n",
       "</table>\n",
       "<p>24128 rows × 3 columns</p>\n",
       "</div>"
      ],
      "text/plain": [
       "            actual   predicted      error\n",
       "11981   294.066667  294.353916   0.287250\n",
       "82720   328.716667  328.045874   0.670793\n",
       "40328   217.250000  218.175718   0.925718\n",
       "78115   245.983333  242.895609   3.087725\n",
       "90929   263.600000  266.528189   2.928189\n",
       "...            ...         ...        ...\n",
       "5151    264.516667  267.667526   3.150859\n",
       "26368   280.900000  269.044246  11.855754\n",
       "32936   239.783333  243.284237   3.500903\n",
       "118284  289.800000  287.490231   2.309769\n",
       "95961   198.866667  201.071873   2.205206\n",
       "\n",
       "[24128 rows x 3 columns]"
      ]
     },
     "execution_count": 53,
     "metadata": {},
     "output_type": "execute_result"
    },
    {
     "data": {
      "image/png": "[encoded data removed]",
      "text/plain": [
       "<Figure size 432x288 with 1 Axes>"
      ]
     },
     "metadata": {},
     "output_type": "display_data"
    }
   ],
   "source": [
    "result, m7 = apply_prediction(df_num[['bib', 'category','country','gender_M', 'gender_F', \n",
    "                         'km_5','km_10','km_15','km_20','km_25', 'km_30']], df_num['km_finish'])\n",
    "result"
   ]
  },
  {
   "cell_type": "markdown",
   "id": "d0bf61fe",
   "metadata": {},
   "source": [
    "#### Model 8 (5KM, 10KM, 15KM, 20KM, 25KM, 30KM, 35KM)"
   ]
  },
  {
   "cell_type": "code",
   "execution_count": 54,
   "id": "190506a3",
   "metadata": {},
   "outputs": [
    {
     "name": "stdout",
     "output_type": "stream",
     "text": [
      "2.2381595267110894\n"
     ]
    },
    {
     "data": {
      "text/html": [
       "<div>\n",
       "<style scoped>\n",
       "    .dataframe tbody tr th:only-of-type {\n",
       "        vertical-align: middle;\n",
       "    }\n",
       "\n",
       "    .dataframe tbody tr th {\n",
       "        vertical-align: top;\n",
       "    }\n",
       "\n",
       "    .dataframe thead th {\n",
       "        text-align: right;\n",
       "    }\n",
       "</style>\n",
       "<table border=\"1\" class=\"dataframe\">\n",
       "  <thead>\n",
       "    <tr style=\"text-align: right;\">\n",
       "      <th></th>\n",
       "      <th>actual</th>\n",
       "      <th>predicted</th>\n",
       "      <th>error</th>\n",
       "    </tr>\n",
       "  </thead>\n",
       "  <tbody>\n",
       "    <tr>\n",
       "      <th>11981</th>\n",
       "      <td>294.066667</td>\n",
       "      <td>293.644668</td>\n",
       "      <td>0.421999</td>\n",
       "    </tr>\n",
       "    <tr>\n",
       "      <th>82720</th>\n",
       "      <td>328.716667</td>\n",
       "      <td>328.389963</td>\n",
       "      <td>0.326704</td>\n",
       "    </tr>\n",
       "    <tr>\n",
       "      <th>40328</th>\n",
       "      <td>217.250000</td>\n",
       "      <td>218.225567</td>\n",
       "      <td>0.975567</td>\n",
       "    </tr>\n",
       "    <tr>\n",
       "      <th>78115</th>\n",
       "      <td>245.983333</td>\n",
       "      <td>244.136125</td>\n",
       "      <td>1.847208</td>\n",
       "    </tr>\n",
       "    <tr>\n",
       "      <th>90929</th>\n",
       "      <td>263.600000</td>\n",
       "      <td>264.847451</td>\n",
       "      <td>1.247451</td>\n",
       "    </tr>\n",
       "    <tr>\n",
       "      <th>...</th>\n",
       "      <td>...</td>\n",
       "      <td>...</td>\n",
       "      <td>...</td>\n",
       "    </tr>\n",
       "    <tr>\n",
       "      <th>5151</th>\n",
       "      <td>264.516667</td>\n",
       "      <td>263.783503</td>\n",
       "      <td>0.733164</td>\n",
       "    </tr>\n",
       "    <tr>\n",
       "      <th>26368</th>\n",
       "      <td>280.900000</td>\n",
       "      <td>270.672288</td>\n",
       "      <td>10.227712</td>\n",
       "    </tr>\n",
       "    <tr>\n",
       "      <th>32936</th>\n",
       "      <td>239.783333</td>\n",
       "      <td>240.597409</td>\n",
       "      <td>0.814076</td>\n",
       "    </tr>\n",
       "    <tr>\n",
       "      <th>118284</th>\n",
       "      <td>289.800000</td>\n",
       "      <td>289.124339</td>\n",
       "      <td>0.675661</td>\n",
       "    </tr>\n",
       "    <tr>\n",
       "      <th>95961</th>\n",
       "      <td>198.866667</td>\n",
       "      <td>199.754354</td>\n",
       "      <td>0.887688</td>\n",
       "    </tr>\n",
       "  </tbody>\n",
       "</table>\n",
       "<p>24128 rows × 3 columns</p>\n",
       "</div>"
      ],
      "text/plain": [
       "            actual   predicted      error\n",
       "11981   294.066667  293.644668   0.421999\n",
       "82720   328.716667  328.389963   0.326704\n",
       "40328   217.250000  218.225567   0.975567\n",
       "78115   245.983333  244.136125   1.847208\n",
       "90929   263.600000  264.847451   1.247451\n",
       "...            ...         ...        ...\n",
       "5151    264.516667  263.783503   0.733164\n",
       "26368   280.900000  270.672288  10.227712\n",
       "32936   239.783333  240.597409   0.814076\n",
       "118284  289.800000  289.124339   0.675661\n",
       "95961   198.866667  199.754354   0.887688\n",
       "\n",
       "[24128 rows x 3 columns]"
      ]
     },
     "execution_count": 54,
     "metadata": {},
     "output_type": "execute_result"
    },
    {
     "data": {
      "image/png": "[encoded data removed]",
      "text/plain": [
       "<Figure size 432x288 with 1 Axes>"
      ]
     },
     "metadata": {},
     "output_type": "display_data"
    }
   ],
   "source": [
    "result, m8 = apply_prediction(df_num[['bib', 'category','country','gender_M', 'gender_F', \n",
    "                         'km_5','km_10','km_15','km_20','km_25', 'km_30', 'km_35']], df_num['km_finish'])\n",
    "result"
   ]
  },
  {
   "cell_type": "markdown",
   "id": "9467141a",
   "metadata": {},
   "source": [
    "#### Model 9 (5KM, 10KM, 15KM, 20KM, 25KM, 30KM, 35KM, 40KM)"
   ]
  },
  {
   "cell_type": "code",
   "execution_count": 55,
   "id": "abd01cd8",
   "metadata": {},
   "outputs": [
    {
     "name": "stdout",
     "output_type": "stream",
     "text": [
      "0.6647988100441938\n"
     ]
    },
    {
     "data": {
      "text/html": [
       "<div>\n",
       "<style scoped>\n",
       "    .dataframe tbody tr th:only-of-type {\n",
       "        vertical-align: middle;\n",
       "    }\n",
       "\n",
       "    .dataframe tbody tr th {\n",
       "        vertical-align: top;\n",
       "    }\n",
       "\n",
       "    .dataframe thead th {\n",
       "        text-align: right;\n",
       "    }\n",
       "</style>\n",
       "<table border=\"1\" class=\"dataframe\">\n",
       "  <thead>\n",
       "    <tr style=\"text-align: right;\">\n",
       "      <th></th>\n",
       "      <th>actual</th>\n",
       "      <th>predicted</th>\n",
       "      <th>error</th>\n",
       "    </tr>\n",
       "  </thead>\n",
       "  <tbody>\n",
       "    <tr>\n",
       "      <th>11981</th>\n",
       "      <td>294.066667</td>\n",
       "      <td>294.182995</td>\n",
       "      <td>0.116328</td>\n",
       "    </tr>\n",
       "    <tr>\n",
       "      <th>82720</th>\n",
       "      <td>328.716667</td>\n",
       "      <td>328.632810</td>\n",
       "      <td>0.083857</td>\n",
       "    </tr>\n",
       "    <tr>\n",
       "      <th>40328</th>\n",
       "      <td>217.250000</td>\n",
       "      <td>217.259216</td>\n",
       "      <td>0.009216</td>\n",
       "    </tr>\n",
       "    <tr>\n",
       "      <th>78115</th>\n",
       "      <td>245.983333</td>\n",
       "      <td>245.578389</td>\n",
       "      <td>0.404945</td>\n",
       "    </tr>\n",
       "    <tr>\n",
       "      <th>90929</th>\n",
       "      <td>263.600000</td>\n",
       "      <td>263.518746</td>\n",
       "      <td>0.081254</td>\n",
       "    </tr>\n",
       "    <tr>\n",
       "      <th>...</th>\n",
       "      <td>...</td>\n",
       "      <td>...</td>\n",
       "      <td>...</td>\n",
       "    </tr>\n",
       "    <tr>\n",
       "      <th>5151</th>\n",
       "      <td>264.516667</td>\n",
       "      <td>265.416009</td>\n",
       "      <td>0.899343</td>\n",
       "    </tr>\n",
       "    <tr>\n",
       "      <th>26368</th>\n",
       "      <td>280.900000</td>\n",
       "      <td>280.816720</td>\n",
       "      <td>0.083280</td>\n",
       "    </tr>\n",
       "    <tr>\n",
       "      <th>32936</th>\n",
       "      <td>239.783333</td>\n",
       "      <td>240.230561</td>\n",
       "      <td>0.447228</td>\n",
       "    </tr>\n",
       "    <tr>\n",
       "      <th>118284</th>\n",
       "      <td>289.800000</td>\n",
       "      <td>290.843723</td>\n",
       "      <td>1.043723</td>\n",
       "    </tr>\n",
       "    <tr>\n",
       "      <th>95961</th>\n",
       "      <td>198.866667</td>\n",
       "      <td>198.845265</td>\n",
       "      <td>0.021401</td>\n",
       "    </tr>\n",
       "  </tbody>\n",
       "</table>\n",
       "<p>24128 rows × 3 columns</p>\n",
       "</div>"
      ],
      "text/plain": [
       "            actual   predicted     error\n",
       "11981   294.066667  294.182995  0.116328\n",
       "82720   328.716667  328.632810  0.083857\n",
       "40328   217.250000  217.259216  0.009216\n",
       "78115   245.983333  245.578389  0.404945\n",
       "90929   263.600000  263.518746  0.081254\n",
       "...            ...         ...       ...\n",
       "5151    264.516667  265.416009  0.899343\n",
       "26368   280.900000  280.816720  0.083280\n",
       "32936   239.783333  240.230561  0.447228\n",
       "118284  289.800000  290.843723  1.043723\n",
       "95961   198.866667  198.845265  0.021401\n",
       "\n",
       "[24128 rows x 3 columns]"
      ]
     },
     "execution_count": 55,
     "metadata": {},
     "output_type": "execute_result"
    },
    {
     "data": {
      "image/png": "[encoded data removed]",
      "text/plain": [
       "<Figure size 432x288 with 1 Axes>"
      ]
     },
     "metadata": {},
     "output_type": "display_data"
    }
   ],
   "source": [
    "result, m9 = apply_prediction(df_num[['bib', 'category','country','gender_M', 'gender_F', \n",
    "                         'km_5','km_10','km_15','km_20','km_25', 'km_30', 'km_35', 'km_40']], df_num['km_finish'])\n",
    "result"
   ]
  },
  {
   "cell_type": "markdown",
   "id": "9f4c6688",
   "metadata": {},
   "source": [
    "We have all 9 models and they are ready to be used."
   ]
  },
  {
   "cell_type": "code",
   "execution_count": 56,
   "id": "cc855a01",
   "metadata": {},
   "outputs": [],
   "source": [
    "full_models = [m1,m2,m3,m4,m5,m6,m7,m8,m9]"
   ]
  },
  {
   "cell_type": "markdown",
   "id": "8d3b3331",
   "metadata": {},
   "source": [
    "# Summary\n",
    "\n",
    "In conclusion, we learned that bib number, age group, country, and gender can all influence a runner's final running time. We also discovered that it is possible to predict a runner's final time even before they begin the race, but the accuracy improves greatly as they continue to pass the marathon checkpoints.\n",
    "\n",
    "This kind of prediction could be useful marketing. In a large marathon like this, the camera tends to focus on the race's leaders, and if a person is predicted to do well, it would be wise for marketing companies to promote their products through him because he will get more exposure."
   ]
  }
 ],
 "metadata": {
  "kernelspec": {
   "display_name": "Python 3 (ipykernel)",
   "language": "python",
   "name": "python3"
  },
  "language_info": {
   "codemirror_mode": {
    "name": "ipython",
    "version": 3
   },
   "file_extension": ".py",
   "mimetype": "text/x-python",
   "name": "python",
   "nbconvert_exporter": "python",
   "pygments_lexer": "ipython3",
   "version": "3.9.7"
  }
 },
 "nbformat": 4,
 "nbformat_minor": 5
}
